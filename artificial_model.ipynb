{
 "cells": [
  {
   "cell_type": "code",
   "execution_count": 1,
   "metadata": {},
   "outputs": [],
   "source": [
    "import pyreadr\n",
    "import numpy as np\n",
    "import pandas as pd\n",
    "from time import time\n",
    "from imblearn.ensemble import BalancedRandomForestClassifier, RUSBoostClassifier\n",
    "from sklearn.ensemble import RandomForestClassifier, GradientBoostingClassifier,AdaBoostClassifier, BaggingClassifier, VotingClassifier\n",
    "from sklearn.model_selection import cross_val_score, cross_validate, cross_val_predict,RepeatedStratifiedKFold, StratifiedKFold, RepeatedKFold, KFold, validation_curve, learning_curve, train_test_split,RandomizedSearchCV, GridSearchCV\n",
    "from sklearn.metrics import confusion_matrix, f1_score, accuracy_score, recall_score, precision_score, precision_recall_curve, roc_auc_score, matthews_corrcoef, precision_score, make_scorer, SCORERS, classification_report\n",
    "from sklearn.utils import class_weight, compute_class_weight, compute_sample_weight,shuffle\n",
    "from imblearn.over_sampling import SMOTE\n",
    "from sklearn.linear_model import LogisticRegression\n",
    "from sklearn.naive_bayes import ComplementNB\n",
    "from imblearn.pipeline import Pipeline, make_pipeline\n",
    "from sklearn.preprocessing import OneHotEncoder, LabelEncoder\n",
    "from sklearn.tree import DecisionTreeClassifier\n",
    "from sklearn.svm import SVC\n",
    "from sklearn.linear_model import Ridge\n",
    "from functools import partial\n",
    "import matplotlib.pyplot as plt"
   ]
  },
  {
   "cell_type": "markdown",
   "metadata": {},
   "source": [
    "# <u>Preprocess Data </u>"
   ]
  },
  {
   "cell_type": "markdown",
   "metadata": {},
   "source": [
    "### Import Transcript Stability Data"
   ]
  },
  {
   "cell_type": "code",
   "execution_count": 21,
   "metadata": {},
   "outputs": [],
   "source": [
    "transcript_stability = pyreadr.read_r('transcript_stability_non_norm.RData')\n",
    "#transcript_stability = pyreadr.read_r('~/Desktop/test.RData')\n",
    "transcript_stability = transcript_stability[\"transcript_stability\"]\n",
    "transcript_stability = pd.DataFrame(transcript_stability)"
   ]
  },
  {
   "cell_type": "markdown",
   "metadata": {},
   "source": [
    "### Remove transcript version from id's (*.number)"
   ]
  },
  {
   "cell_type": "code",
   "execution_count": 22,
   "metadata": {},
   "outputs": [],
   "source": [
    "transcript_stability[\"transcript_id\"] = transcript_stability[\"transcript_id\"].str.split(\".\").str[0]"
   ]
  },
  {
   "cell_type": "markdown",
   "metadata": {},
   "source": [
    "### Remove Housekeeping transcripts"
   ]
  },
  {
   "cell_type": "code",
   "execution_count": 23,
   "metadata": {},
   "outputs": [],
   "source": [
    "h = pd.read_csv(\"Housekeeping_TranscriptsHuman.csv\", delimiter=\";\")\n",
    "house_genes = h[\"Ensembl\"].values\n",
    "transcript_stability = transcript_stability[~transcript_stability[\"transcript_id\"].isin(house_genes)]"
   ]
  },
  {
   "cell_type": "code",
   "execution_count": 24,
   "metadata": {},
   "outputs": [],
   "source": [
    "### Import Transcript Stability Data\n",
    "\n",
    "#transcript_stability = pyreadr.read_r('transcript_stability_non_norm_med_remove_TSS.RData')\n",
    "#transcript_stability = transcript_stability[\"transcript_stability\"]\n",
    "#transcript_stability = pd.DataFrame(transcript_stability)\n",
    "\n",
    "### Remove transcript version from id's (*.number)\n",
    "\n",
    "transcript_stability[\"transcript_id\"] = transcript_stability[\"transcript_id\"].str.split(\".\").str[0]\n",
    "\n",
    "### Remove Housekeeping transcripts\n",
    "\n",
    "h = pd.read_csv(\"Housekeeping_TranscriptsHuman.csv\", delimiter=\";\")\n",
    "house_genes = h[\"Ensembl\"].values\n",
    "transcript_stability = transcript_stability[~transcript_stability[\"transcript_id\"].isin(house_genes)]"
   ]
  },
  {
   "cell_type": "markdown",
   "metadata": {},
   "source": [
    "### Define stable/unstable transcripts"
   ]
  },
  {
   "cell_type": "code",
   "execution_count": 25,
   "metadata": {},
   "outputs": [],
   "source": [
    "transcript_stability[\"stability\"] = \"NO\"\n",
    "transcript_stability_gcsi_ccle = transcript_stability.copy() \n",
    "transcript_stability_gdsc_ccle = transcript_stability.copy()\n",
    "transcript_stability_gcsi_gdsc = transcript_stability.copy()\n",
    "\n",
    "transcript_stability_gcsi_ccle.loc[transcript_stability_gcsi_ccle[\"gcsi_ccle\"] > 0.8, \"stability\"] = \"YES\"\n",
    "transcript_stability_gcsi_ccle.loc[transcript_stability_gcsi_ccle[\"gcsi_ccle\"] < 0.8, \"stability\"] = \"NO\"\n",
    "\n",
    "transcript_stability_gcsi_gdsc.loc[transcript_stability_gcsi_gdsc[\"gcsi_gdsc\"] > 0.8, \"stability\"] = \"YES\"\n",
    "transcript_stability_gcsi_gdsc.loc[transcript_stability_gcsi_gdsc[\"gcsi_gdsc\"] < 0.8, \"stability\"] = \"NO\"\n",
    "\n",
    "transcript_stability_gdsc_ccle.loc[transcript_stability_gdsc_ccle[\"gdsc_ccle\"] > 0.8, \"stability\"] = \"YES\"\n",
    "transcript_stability_gdsc_ccle.loc[transcript_stability_gdsc_ccle[\"gdsc_ccle\"] < 0.8, \"stability\"] = \"NO\""
   ]
  },
  {
   "cell_type": "markdown",
   "metadata": {},
   "source": [
    "### Isolate MOST stable/unstable transcripts"
   ]
  },
  {
   "cell_type": "markdown",
   "metadata": {},
   "source": [
    "#### gCSI/CCLE"
   ]
  },
  {
   "cell_type": "code",
   "execution_count": 26,
   "metadata": {},
   "outputs": [],
   "source": [
    "stable = transcript_stability_gcsi_ccle.sort_values('gcsi_ccle', ascending=False)\n",
    "stable = stable.iloc[0:3014]\n",
    "\n",
    "unstable = transcript_stability_gcsi_ccle.sort_values('gcsi_ccle', ascending=True)\n",
    "unstable = unstable.iloc[0:3014]\n",
    "\n",
    "transcript_stability_gcsi_ccle = stable.append(unstable)"
   ]
  },
  {
   "cell_type": "markdown",
   "metadata": {},
   "source": [
    "#### gCSI/GDSC"
   ]
  },
  {
   "cell_type": "code",
   "execution_count": 27,
   "metadata": {},
   "outputs": [],
   "source": [
    "stable = transcript_stability_gcsi_gdsc.sort_values('gcsi_gdsc', ascending=False)\n",
    "stable = stable.iloc[0:3014]\n",
    "\n",
    "unstable = transcript_stability_gcsi_gdsc.sort_values('gcsi_gdsc', ascending=True)\n",
    "unstable = unstable.iloc[0:3014]\n",
    "\n",
    "transcript_stability_gcsi_gdsc = stable.append(unstable)"
   ]
  },
  {
   "cell_type": "markdown",
   "metadata": {},
   "source": [
    "#### GDSC/CCLE"
   ]
  },
  {
   "cell_type": "code",
   "execution_count": 28,
   "metadata": {},
   "outputs": [],
   "source": [
    "stable = transcript_stability_gdsc_ccle.sort_values('gdsc_ccle', ascending=False)\n",
    "stable = stable.iloc[0:3014]\n",
    "\n",
    "unstable = transcript_stability_gdsc_ccle.sort_values('gdsc_ccle', ascending=True)\n",
    "unstable = unstable[0:3014]\n",
    "\n",
    "transcript_stability_gdsc_ccle = stable.append(unstable)"
   ]
  },
  {
   "cell_type": "code",
   "execution_count": 29,
   "metadata": {},
   "outputs": [
    {
     "data": {
      "text/html": [
       "<div>\n",
       "<style scoped>\n",
       "    .dataframe tbody tr th:only-of-type {\n",
       "        vertical-align: middle;\n",
       "    }\n",
       "\n",
       "    .dataframe tbody tr th {\n",
       "        vertical-align: top;\n",
       "    }\n",
       "\n",
       "    .dataframe thead th {\n",
       "        text-align: right;\n",
       "    }\n",
       "</style>\n",
       "<table border=\"1\" class=\"dataframe\">\n",
       "  <thead>\n",
       "    <tr style=\"text-align: right;\">\n",
       "      <th></th>\n",
       "      <th>transcript_id</th>\n",
       "      <th>gcsi_mad</th>\n",
       "      <th>ccle_mad</th>\n",
       "      <th>gdsc_mad</th>\n",
       "      <th>gcsi_median</th>\n",
       "      <th>gdsc_median</th>\n",
       "      <th>ccle_median</th>\n",
       "      <th>gcsi_ccle</th>\n",
       "      <th>gcsi_gdsc</th>\n",
       "      <th>gdsc_ccle</th>\n",
       "      <th>length</th>\n",
       "      <th>n_exon</th>\n",
       "      <th>gc</th>\n",
       "      <th>stability</th>\n",
       "    </tr>\n",
       "  </thead>\n",
       "  <tbody>\n",
       "    <tr>\n",
       "      <th>60607</th>\n",
       "      <td>ENST00000378616</td>\n",
       "      <td>626.398500</td>\n",
       "      <td>572.283600</td>\n",
       "      <td>1249.831800</td>\n",
       "      <td>458.500000</td>\n",
       "      <td>845.000000</td>\n",
       "      <td>395.000000</td>\n",
       "      <td>0.920200</td>\n",
       "      <td>0.913602</td>\n",
       "      <td>0.965338</td>\n",
       "      <td>5174.0</td>\n",
       "      <td>3.0</td>\n",
       "      <td>41.631233</td>\n",
       "      <td>YES</td>\n",
       "    </tr>\n",
       "    <tr>\n",
       "      <th>50295</th>\n",
       "      <td>ENST00000355797</td>\n",
       "      <td>354.764465</td>\n",
       "      <td>409.538260</td>\n",
       "      <td>1077.094582</td>\n",
       "      <td>278.747411</td>\n",
       "      <td>886.433199</td>\n",
       "      <td>339.989603</td>\n",
       "      <td>0.900239</td>\n",
       "      <td>0.915545</td>\n",
       "      <td>0.959075</td>\n",
       "      <td>5661.0</td>\n",
       "      <td>4.0</td>\n",
       "      <td>50.733086</td>\n",
       "      <td>YES</td>\n",
       "    </tr>\n",
       "    <tr>\n",
       "      <th>20041</th>\n",
       "      <td>ENST00000369838</td>\n",
       "      <td>1696.835700</td>\n",
       "      <td>1675.338000</td>\n",
       "      <td>6103.864200</td>\n",
       "      <td>1373.500000</td>\n",
       "      <td>4360.000000</td>\n",
       "      <td>1229.000000</td>\n",
       "      <td>0.927240</td>\n",
       "      <td>0.910329</td>\n",
       "      <td>0.958070</td>\n",
       "      <td>4603.0</td>\n",
       "      <td>4.0</td>\n",
       "      <td>38.865957</td>\n",
       "      <td>YES</td>\n",
       "    </tr>\n",
       "    <tr>\n",
       "      <th>43415</th>\n",
       "      <td>ENST00000327355</td>\n",
       "      <td>345.390306</td>\n",
       "      <td>289.295815</td>\n",
       "      <td>1137.008356</td>\n",
       "      <td>241.746203</td>\n",
       "      <td>787.715837</td>\n",
       "      <td>210.220346</td>\n",
       "      <td>0.921190</td>\n",
       "      <td>0.939861</td>\n",
       "      <td>0.957338</td>\n",
       "      <td>2604.0</td>\n",
       "      <td>3.0</td>\n",
       "      <td>53.840246</td>\n",
       "      <td>YES</td>\n",
       "    </tr>\n",
       "    <tr>\n",
       "      <th>38380</th>\n",
       "      <td>ENST00000381020</td>\n",
       "      <td>175.776181</td>\n",
       "      <td>339.480649</td>\n",
       "      <td>1186.580078</td>\n",
       "      <td>118.559410</td>\n",
       "      <td>800.337298</td>\n",
       "      <td>231.112914</td>\n",
       "      <td>0.922642</td>\n",
       "      <td>0.925671</td>\n",
       "      <td>0.955438</td>\n",
       "      <td>3448.0</td>\n",
       "      <td>3.0</td>\n",
       "      <td>59.628770</td>\n",
       "      <td>YES</td>\n",
       "    </tr>\n",
       "    <tr>\n",
       "      <th>...</th>\n",
       "      <td>...</td>\n",
       "      <td>...</td>\n",
       "      <td>...</td>\n",
       "      <td>...</td>\n",
       "      <td>...</td>\n",
       "      <td>...</td>\n",
       "      <td>...</td>\n",
       "      <td>...</td>\n",
       "      <td>...</td>\n",
       "      <td>...</td>\n",
       "      <td>...</td>\n",
       "      <td>...</td>\n",
       "      <td>...</td>\n",
       "      <td>...</td>\n",
       "    </tr>\n",
       "    <tr>\n",
       "      <th>53326</th>\n",
       "      <td>ENST00000340790</td>\n",
       "      <td>0.000059</td>\n",
       "      <td>0.000000</td>\n",
       "      <td>0.000000</td>\n",
       "      <td>0.000040</td>\n",
       "      <td>0.000000</td>\n",
       "      <td>0.000000</td>\n",
       "      <td>-0.092308</td>\n",
       "      <td>0.091693</td>\n",
       "      <td>0.020511</td>\n",
       "      <td>2260.0</td>\n",
       "      <td>6.0</td>\n",
       "      <td>61.548673</td>\n",
       "      <td>NO</td>\n",
       "    </tr>\n",
       "    <tr>\n",
       "      <th>23097</th>\n",
       "      <td>ENST00000621093</td>\n",
       "      <td>109.357374</td>\n",
       "      <td>101.499068</td>\n",
       "      <td>214.924868</td>\n",
       "      <td>76.373396</td>\n",
       "      <td>543.884246</td>\n",
       "      <td>68.460184</td>\n",
       "      <td>0.234413</td>\n",
       "      <td>0.160317</td>\n",
       "      <td>0.020519</td>\n",
       "      <td>348.0</td>\n",
       "      <td>4.0</td>\n",
       "      <td>54.022989</td>\n",
       "      <td>NO</td>\n",
       "    </tr>\n",
       "    <tr>\n",
       "      <th>26171</th>\n",
       "      <td>ENST00000527194</td>\n",
       "      <td>271.182101</td>\n",
       "      <td>195.119547</td>\n",
       "      <td>8.831772</td>\n",
       "      <td>182.910365</td>\n",
       "      <td>5.956948</td>\n",
       "      <td>288.943274</td>\n",
       "      <td>0.202242</td>\n",
       "      <td>0.342965</td>\n",
       "      <td>0.020538</td>\n",
       "      <td>806.0</td>\n",
       "      <td>5.0</td>\n",
       "      <td>59.429280</td>\n",
       "      <td>NO</td>\n",
       "    </tr>\n",
       "    <tr>\n",
       "      <th>17743</th>\n",
       "      <td>ENST00000523705</td>\n",
       "      <td>0.000000</td>\n",
       "      <td>2.917941</td>\n",
       "      <td>0.000000</td>\n",
       "      <td>0.000000</td>\n",
       "      <td>0.000000</td>\n",
       "      <td>1.968124</td>\n",
       "      <td>0.111750</td>\n",
       "      <td>0.104437</td>\n",
       "      <td>0.020573</td>\n",
       "      <td>576.0</td>\n",
       "      <td>6.0</td>\n",
       "      <td>49.131944</td>\n",
       "      <td>NO</td>\n",
       "    </tr>\n",
       "    <tr>\n",
       "      <th>55047</th>\n",
       "      <td>ENST00000585632</td>\n",
       "      <td>4.638678</td>\n",
       "      <td>0.000000</td>\n",
       "      <td>3.433964</td>\n",
       "      <td>3.128745</td>\n",
       "      <td>2.316177</td>\n",
       "      <td>0.000000</td>\n",
       "      <td>-0.042125</td>\n",
       "      <td>-0.124304</td>\n",
       "      <td>0.020584</td>\n",
       "      <td>579.0</td>\n",
       "      <td>4.0</td>\n",
       "      <td>48.531952</td>\n",
       "      <td>NO</td>\n",
       "    </tr>\n",
       "  </tbody>\n",
       "</table>\n",
       "<p>6028 rows × 14 columns</p>\n",
       "</div>"
      ],
      "text/plain": [
       "         transcript_id     gcsi_mad     ccle_mad     gdsc_mad  gcsi_median  \\\n",
       "60607  ENST00000378616   626.398500   572.283600  1249.831800   458.500000   \n",
       "50295  ENST00000355797   354.764465   409.538260  1077.094582   278.747411   \n",
       "20041  ENST00000369838  1696.835700  1675.338000  6103.864200  1373.500000   \n",
       "43415  ENST00000327355   345.390306   289.295815  1137.008356   241.746203   \n",
       "38380  ENST00000381020   175.776181   339.480649  1186.580078   118.559410   \n",
       "...                ...          ...          ...          ...          ...   \n",
       "53326  ENST00000340790     0.000059     0.000000     0.000000     0.000040   \n",
       "23097  ENST00000621093   109.357374   101.499068   214.924868    76.373396   \n",
       "26171  ENST00000527194   271.182101   195.119547     8.831772   182.910365   \n",
       "17743  ENST00000523705     0.000000     2.917941     0.000000     0.000000   \n",
       "55047  ENST00000585632     4.638678     0.000000     3.433964     3.128745   \n",
       "\n",
       "       gdsc_median  ccle_median  gcsi_ccle  gcsi_gdsc  gdsc_ccle  length  \\\n",
       "60607   845.000000   395.000000   0.920200   0.913602   0.965338  5174.0   \n",
       "50295   886.433199   339.989603   0.900239   0.915545   0.959075  5661.0   \n",
       "20041  4360.000000  1229.000000   0.927240   0.910329   0.958070  4603.0   \n",
       "43415   787.715837   210.220346   0.921190   0.939861   0.957338  2604.0   \n",
       "38380   800.337298   231.112914   0.922642   0.925671   0.955438  3448.0   \n",
       "...            ...          ...        ...        ...        ...     ...   \n",
       "53326     0.000000     0.000000  -0.092308   0.091693   0.020511  2260.0   \n",
       "23097   543.884246    68.460184   0.234413   0.160317   0.020519   348.0   \n",
       "26171     5.956948   288.943274   0.202242   0.342965   0.020538   806.0   \n",
       "17743     0.000000     1.968124   0.111750   0.104437   0.020573   576.0   \n",
       "55047     2.316177     0.000000  -0.042125  -0.124304   0.020584   579.0   \n",
       "\n",
       "       n_exon         gc stability  \n",
       "60607     3.0  41.631233       YES  \n",
       "50295     4.0  50.733086       YES  \n",
       "20041     4.0  38.865957       YES  \n",
       "43415     3.0  53.840246       YES  \n",
       "38380     3.0  59.628770       YES  \n",
       "...       ...        ...       ...  \n",
       "53326     6.0  61.548673        NO  \n",
       "23097     4.0  54.022989        NO  \n",
       "26171     5.0  59.429280        NO  \n",
       "17743     6.0  49.131944        NO  \n",
       "55047     4.0  48.531952        NO  \n",
       "\n",
       "[6028 rows x 14 columns]"
      ]
     },
     "execution_count": 29,
     "metadata": {},
     "output_type": "execute_result"
    }
   ],
   "source": [
    "transcript_stability_gdsc_ccle"
   ]
  },
  {
   "cell_type": "markdown",
   "metadata": {},
   "source": [
    "### Extract features +  stability from df"
   ]
  },
  {
   "cell_type": "code",
   "execution_count": 30,
   "metadata": {},
   "outputs": [],
   "source": [
    "transcript_stability_gcsi_ccle = transcript_stability_gcsi_ccle.loc[:,['gdsc_median','n_exon','gc','length','stability']]\n",
    "transcript_stability_gcsi_gdsc = transcript_stability_gcsi_gdsc.loc[:,['ccle_median','n_exon','gc','length','stability']]\n",
    "transcript_stability_gdsc_ccle = transcript_stability_gdsc_ccle.loc[:,['gcsi_median','n_exon','gc','length','stability']]"
   ]
  },
  {
   "cell_type": "markdown",
   "metadata": {},
   "source": [
    "# <u>Hyperparameter Optimization (RandomizedSearchCV, GridSearchCV) </u>"
   ]
  },
  {
   "cell_type": "markdown",
   "metadata": {},
   "source": [
    "#### Define parameters"
   ]
  },
  {
   "cell_type": "code",
   "execution_count": 75,
   "metadata": {},
   "outputs": [],
   "source": [
    "scores = ['precision', 'recall']\n",
    "\n",
    "param_grid = {\n",
    "'n_estimators': [100, 200, 300, 400], \n",
    "'max_depth': [2, 4, 6, 8]\n",
    "}"
   ]
  },
  {
   "cell_type": "code",
   "execution_count": 77,
   "metadata": {},
   "outputs": [],
   "source": [
    "sk_fold = StratifiedKFold(n_splits=10, shuffle=True)\n",
    "\n",
    "rf = RandomForestClassifier()\n",
    "ada_boost = AdaBoostClassifier()"
   ]
  },
  {
   "cell_type": "markdown",
   "metadata": {},
   "source": [
    "### RandomizedSearchCV"
   ]
  },
  {
   "cell_type": "markdown",
   "metadata": {},
   "source": [
    "- Does NOT test all combinations of hyperparameters, but rather random combinations (lower compute time than GridSearchCV). Typically used FIRST to reduce the parameter space (identify some parameters not to tune in GridSearchCV, which will reduce parameter space before running GridSearchCV next). When you launch GridSearchCV on this reduced parameter space, there will be a reduced computation time of GridSearchCV for searching for the optimal features)"
   ]
  },
  {
   "cell_type": "code",
   "execution_count": 79,
   "metadata": {
    "scrolled": true
   },
   "outputs": [
    {
     "name": "stdout",
     "output_type": "stream",
     "text": [
      "# Tuning hyper-parameters for precision\n",
      "\n",
      "\n",
      "median_exp:gcsi/ccle\n",
      "\n",
      " The best score across ALL searched params:\n",
      " 0.7766614736626185\n",
      "\n",
      " The best parameters across ALL searched params:\n",
      " {'n_estimators': 400, 'max_depth': 4}\n",
      "\n",
      "median_exp:gcsi/gdsc\n",
      "\n",
      " The best score across ALL searched params:\n",
      " 0.7161772873713154\n",
      "\n",
      " The best parameters across ALL searched params:\n",
      " {'n_estimators': 100, 'max_depth': 2}\n",
      "\n",
      "median_exp:gdsc/ccle\n",
      "\n",
      " The best score across ALL searched params:\n",
      " 0.8017102835386659\n",
      "\n",
      " The best parameters across ALL searched params:\n",
      " {'n_estimators': 400, 'max_depth': 4}\n",
      "# Tuning hyper-parameters for recall\n",
      "\n",
      "\n",
      "median_exp:gcsi/ccle\n",
      "\n",
      " The best score across ALL searched params:\n",
      " 0.7749300814851019\n",
      "\n",
      " The best parameters across ALL searched params:\n",
      " {'n_estimators': 400, 'max_depth': 4}\n",
      "\n",
      "median_exp:gcsi/gdsc\n",
      "\n",
      " The best score across ALL searched params:\n",
      " 0.7059321865761958\n",
      "\n",
      " The best parameters across ALL searched params:\n",
      " {'n_estimators': 300, 'max_depth': 4}\n",
      "\n",
      "median_exp:gdsc/ccle\n",
      "\n",
      " The best score across ALL searched params:\n",
      " 0.798643433922584\n",
      "\n",
      " The best parameters across ALL searched params:\n",
      " {'n_estimators': 100, 'max_depth': 2}\n",
      "# Tuning hyper-parameters for precision\n",
      "\n",
      "\n",
      "length:gcsi/ccle\n",
      "\n",
      " The best score across ALL searched params:\n",
      " 0.7344002130816076\n",
      "\n",
      " The best parameters across ALL searched params:\n",
      " {'n_estimators': 400, 'max_depth': 2}\n",
      "\n",
      "length:gcsi/gdsc\n",
      "\n",
      " The best score across ALL searched params:\n",
      " 0.7223391423009955\n",
      "\n",
      " The best parameters across ALL searched params:\n",
      " {'n_estimators': 300, 'max_depth': 2}\n",
      "\n",
      "length:gdsc/ccle\n",
      "\n",
      " The best score across ALL searched params:\n",
      " 0.7242303336136813\n",
      "\n",
      " The best parameters across ALL searched params:\n",
      " {'n_estimators': 400, 'max_depth': 2}\n",
      "# Tuning hyper-parameters for recall\n",
      "\n",
      "\n",
      "length:gcsi/ccle\n",
      "\n",
      " The best score across ALL searched params:\n",
      " 0.7084984176090167\n",
      "\n",
      " The best parameters across ALL searched params:\n",
      " {'n_estimators': 300, 'max_depth': 2}\n",
      "\n",
      "length:gcsi/gdsc\n",
      "\n",
      " The best score across ALL searched params:\n",
      " 0.6986746820625757\n",
      "\n",
      " The best parameters across ALL searched params:\n",
      " {'n_estimators': 100, 'max_depth': 2}\n",
      "\n",
      "length:gdsc/ccle\n",
      "\n",
      " The best score across ALL searched params:\n",
      " 0.7029368291569946\n",
      "\n",
      " The best parameters across ALL searched params:\n",
      " {'n_estimators': 300, 'max_depth': 4}\n",
      "# Tuning hyper-parameters for precision\n",
      "\n",
      "\n",
      "n_exon:gcsi/ccle\n",
      "\n",
      " The best score across ALL searched params:\n",
      " 0.5911346718579857\n",
      "\n",
      " The best parameters across ALL searched params:\n",
      " {'n_estimators': 300, 'max_depth': 4}\n",
      "\n",
      "n_exon:gcsi/gdsc\n",
      "\n",
      " The best score across ALL searched params:\n",
      " 0.5794795796174987\n",
      "\n",
      " The best parameters across ALL searched params:\n",
      " {'n_estimators': 400, 'max_depth': 2}\n",
      "\n",
      "n_exon:gdsc/ccle\n",
      "\n",
      " The best score across ALL searched params:\n",
      " 0.5920473221582532\n",
      "\n",
      " The best parameters across ALL searched params:\n",
      " {'n_estimators': 200, 'max_depth': 2}\n",
      "# Tuning hyper-parameters for recall\n",
      "\n",
      "\n",
      "n_exon:gcsi/ccle\n",
      "\n",
      " The best score across ALL searched params:\n",
      " 0.5910256487487481\n",
      "\n",
      " The best parameters across ALL searched params:\n",
      " {'n_estimators': 100, 'max_depth': 2}\n",
      "\n",
      "n_exon:gcsi/gdsc\n",
      "\n",
      " The best score across ALL searched params:\n",
      " 0.5786733924567982\n",
      "\n",
      " The best parameters across ALL searched params:\n",
      " {'n_estimators': 100, 'max_depth': 2}\n",
      "\n",
      "n_exon:gdsc/ccle\n",
      "\n",
      " The best score across ALL searched params:\n",
      " 0.5914489216911691\n",
      "\n",
      " The best parameters across ALL searched params:\n",
      " {'n_estimators': 300, 'max_depth': 2}\n"
     ]
    }
   ],
   "source": [
    "feat = ['median_exp','length','n_exon']\n",
    "for i in feat:\n",
    "    if (i == 'median_exp'):\n",
    "        x1 = transcript_stability_gcsi_ccle[[\"gdsc_median\"]].values\n",
    "        x2 = transcript_stability_gcsi_gdsc[[\"ccle_median\"]].values\n",
    "        x3 = transcript_stability_gdsc_ccle[[\"gcsi_median\"]].values\n",
    "    else:\n",
    "        x1 = transcript_stability_gcsi_ccle[[i]].values\n",
    "        x2 = transcript_stability_gcsi_gdsc[[i]].values\n",
    "        x3 = transcript_stability_gdsc_ccle[[i]].values\n",
    "    \n",
    "    y1 = transcript_stability_gcsi_ccle.stability.replace(to_replace=['NO', 'YES'], value=[0, 1])\n",
    "    y2 = transcript_stability_gcsi_gdsc.stability.replace(to_replace=['NO', 'YES'], value=[0, 1])\n",
    "    y3 = transcript_stability_gdsc_ccle.stability.replace(to_replace=['NO', 'YES'], value=[0, 1])\n",
    "    \n",
    "    for score in scores:\n",
    "        print(\"# Tuning hyper-parameters for %s\" % score)\n",
    "        print()\n",
    "\n",
    "        rs1 = RandomizedSearchCV(\n",
    "        rf, param_grid, cv=sk_fold ,scoring='%s_macro' % score)\n",
    "        rs1.fit(x1, y1)\n",
    "    \n",
    "        rs2 = RandomizedSearchCV(\n",
    "        rf, param_grid, cv=sk_fold ,scoring='%s_macro' % score)\n",
    "        rs2.fit(x2, y2)\n",
    "    \n",
    "        rs3 = RandomizedSearchCV(\n",
    "        rf, param_grid, cv=sk_fold ,scoring='%s_macro' % score)\n",
    "        rs3.fit(x3, y3)\n",
    "    \n",
    "    \n",
    "\n",
    "        print()\n",
    "        print(i + \":\" + \"gcsi/ccle\")\n",
    "        print(\"\\n The best score:\\n\",\n",
    "          rs1.best_score_)\n",
    "        print(\"\\n The best parameter:\\n\",\n",
    "          rs1.best_params_)\n",
    "        print()\n",
    "        print(i + \":\" + \"gcsi/gdsc\")\n",
    "        print(\"\\n The best score:\\n\",\n",
    "          rs2.best_score_)\n",
    "        print(\"\\n The best parameter:\\n\",\n",
    "          rs2.best_params_)\n",
    "        print()\n",
    "        print(i + \":\" + \"gdsc/ccle\")\n",
    "        print(\"\\n The best score:\\n\",\n",
    "          rs3.best_score_)\n",
    "        print(\"\\n The best parameter:\\n\",\n",
    "          rs3.best_params_)"
   ]
  },
  {
   "cell_type": "markdown",
   "metadata": {},
   "source": [
    "### GridSearchCV"
   ]
  },
  {
   "cell_type": "code",
   "execution_count": 65,
   "metadata": {
    "scrolled": true
   },
   "outputs": [
    {
     "name": "stdout",
     "output_type": "stream",
     "text": [
      "# Tuning hyper-parameters for precision\n",
      "\n",
      "Best parameters set found on development set:\n",
      "\n",
      "{'max_depth': 4, 'n_estimators': 200}\n",
      "\n",
      "Grid scores on development set:\n",
      "\n",
      "0.772 (+/-0.029) for {'max_depth': 2, 'n_estimators': 100}\n",
      "0.772 (+/-0.028) for {'max_depth': 2, 'n_estimators': 200}\n",
      "0.772 (+/-0.029) for {'max_depth': 2, 'n_estimators': 300}\n",
      "0.777 (+/-0.027) for {'max_depth': 4, 'n_estimators': 100}\n",
      "0.778 (+/-0.029) for {'max_depth': 4, 'n_estimators': 200}\n",
      "0.777 (+/-0.030) for {'max_depth': 4, 'n_estimators': 300}\n",
      "0.775 (+/-0.027) for {'max_depth': 6, 'n_estimators': 100}\n",
      "0.774 (+/-0.027) for {'max_depth': 6, 'n_estimators': 200}\n",
      "0.776 (+/-0.029) for {'max_depth': 6, 'n_estimators': 300}\n",
      "\n",
      "# Tuning hyper-parameters for recall\n",
      "\n",
      "Best parameters set found on development set:\n",
      "\n",
      "{'max_depth': 4, 'n_estimators': 200}\n",
      "\n",
      "Grid scores on development set:\n",
      "\n",
      "0.771 (+/-0.027) for {'max_depth': 2, 'n_estimators': 100}\n",
      "0.771 (+/-0.026) for {'max_depth': 2, 'n_estimators': 200}\n",
      "0.771 (+/-0.024) for {'max_depth': 2, 'n_estimators': 300}\n",
      "0.774 (+/-0.023) for {'max_depth': 4, 'n_estimators': 100}\n",
      "0.775 (+/-0.023) for {'max_depth': 4, 'n_estimators': 200}\n",
      "0.774 (+/-0.022) for {'max_depth': 4, 'n_estimators': 300}\n",
      "0.771 (+/-0.025) for {'max_depth': 6, 'n_estimators': 100}\n",
      "0.770 (+/-0.022) for {'max_depth': 6, 'n_estimators': 200}\n",
      "0.771 (+/-0.022) for {'max_depth': 6, 'n_estimators': 300}\n",
      "\n"
     ]
    }
   ],
   "source": [
    "for score in scores:\n",
    "    print(\"# Tuning hyper-parameters for %s\" % score)\n",
    "    print()\n",
    "\n",
    "    clf = GridSearchCV(\n",
    "        rf, param_grid, cv=sk_fold, scoring='%s_macro' % score\n",
    "    )\n",
    "    clf.fit(x1, y1_t)\n",
    "\n",
    "    print(\"Best parameters set found on development set:\")\n",
    "    print()\n",
    "    print(clf.best_params_)\n",
    "    print()\n",
    "    print(\"Grid scores on development set:\")\n",
    "    print()\n",
    "    means = clf.cv_results_['mean_test_score']\n",
    "    stds = clf.cv_results_['std_test_score']\n",
    "    for mean, std, params in zip(means, stds, clf.cv_results_['params']):\n",
    "        print(\"%0.3f (+/-%0.03f) for %r\"\n",
    "              % (mean, std * 2, params))\n",
    "    print()"
   ]
  },
  {
   "cell_type": "markdown",
   "metadata": {},
   "source": [
    "# <u>Build models with tuned hyperparameters </u>"
   ]
  },
  {
   "cell_type": "code",
   "execution_count": 35,
   "metadata": {},
   "outputs": [],
   "source": [
    "rsk_fold = RepeatedStratifiedKFold(n_splits=10)\n",
    "sk_fold = StratifiedKFold(n_splits=10)"
   ]
  },
  {
   "cell_type": "markdown",
   "metadata": {},
   "source": [
    "## 1. Random Forest"
   ]
  },
  {
   "cell_type": "code",
   "execution_count": 41,
   "metadata": {},
   "outputs": [],
   "source": [
    "rf = RandomForestClassifier(n_estimators=100, max_depth=8)"
   ]
  },
  {
   "cell_type": "code",
   "execution_count": 32,
   "metadata": {},
   "outputs": [],
   "source": [
    "transcript_stability_gcsi_ccle_f = shuffle(transcript_stability_gcsi_ccle, random_state=10)\n",
    "transcript_stability_gcsi_gdsc_f = shuffle(transcript_stability_gcsi_gdsc, random_state=10)\n",
    "transcript_stability_gdsc_ccle_f = shuffle(transcript_stability_gdsc_ccle, random_state=10)"
   ]
  },
  {
   "cell_type": "code",
   "execution_count": 39,
   "metadata": {},
   "outputs": [],
   "source": [
    "x1 = transcript_stability_gcsi_ccle_f[[\"gdsc_median\"]].values\n",
    "y1 = transcript_stability_gcsi_ccle_f[\"stability\"].values.ravel()"
   ]
  },
  {
   "cell_type": "code",
   "execution_count": 42,
   "metadata": {},
   "outputs": [
    {
     "data": {
      "image/png": "[encoded data removed]",
      "text/plain": [
       "<Figure size 432x288 with 1 Axes>"
      ]
     },
     "metadata": {
      "needs_background": "light"
     },
     "output_type": "display_data"
    }
   ],
   "source": [
    "plt.figure()\n",
    "plt.xlabel(\"Training examples\")\n",
    "plt.ylabel(\"Score (Accuracy)\")\n",
    "\n",
    "train_sizes, train_scores, valid_scores = learning_curve(rf, \n",
    "X=x1, y=y1, cv=sk_fold)\n",
    "valid_mean = np.mean(valid_scores, axis=1)\n",
    "valid_std = np.std(valid_scores, axis=1)\n",
    "plt.grid()\n",
    "plt.plot(train_sizes, valid_mean, 'o-', color=\"g\", label='CV(gcsi_gdsc)')\n",
    "\n",
    "plt.grid()\n",
    "plt.legend(loc='upper left')\n",
    "plt.savefig('figures/test.png', dpi=500)"
   ]
  },
  {
   "cell_type": "markdown",
   "metadata": {},
   "source": [
    "#### Learning curves"
   ]
  },
  {
   "cell_type": "code",
   "execution_count": 85,
   "metadata": {},
   "outputs": [],
   "source": [
    "feat = ['median_exp','length','n_exon']\n",
    "for i in feat:\n",
    "    if (i == 'median_exp'):\n",
    "        x1 = transcript_stability_gcsi_ccle_f[[\"gdsc_median\"]].values\n",
    "        x2 = transcript_stability_gcsi_gdsc_f[[\"ccle_median\"]].values\n",
    "        x3 = transcript_stability_gdsc_ccle_f[[\"gcsi_median\"]].values\n",
    "    else:\n",
    "        x1 = transcript_stability_gcsi_ccle_f[[i]].values\n",
    "        x2 = transcript_stability_gcsi_gdsc_f[[i]].values\n",
    "        x3 = transcript_stability_gdsc_ccle_f[[i]].values\n",
    "    \n",
    "    y1 = transcript_stability_gcsi_ccle_f[\"stability\"].values.ravel()\n",
    "    y2 = transcript_stability_gcsi_gdsc_f[\"stability\"].values.ravel()\n",
    "    y3 = transcript_stability_gdsc_ccle_f[\"stability\"].values.ravel()\n",
    "    \n",
    "    plt.figure()\n",
    "    plt.xlabel(\"Training examples\")\n",
    "    plt.ylabel(\"Score (Accuracy)\")\n",
    "\n",
    "\n",
    "    train_sizes, train_scores, valid_scores = learning_curve(rf, \n",
    "    X=x1, y=y1, cv=rsk_fold)\n",
    "    valid_mean = np.mean(valid_scores, axis=1)\n",
    "    valid_std = np.std(valid_scores, axis=1)\n",
    "    plt.grid()\n",
    "    plt.plot(train_sizes, valid_mean, 'o-', color=\"g\", label='CV(gcsi_ccle):' + i)\n",
    "\n",
    "\n",
    "    train_sizes, train_scores, valid_scores = learning_curve(rf, \n",
    "    X=x2, y=y2, cv=rsk_fold)\n",
    "    valid_mean = np.mean(valid_scores, axis=1)\n",
    "    valid_std = np.std(valid_scores, axis=1)\n",
    "    plt.grid()\n",
    "    plt.plot(train_sizes, valid_mean, 'o-', color=\"b\", label='CV(gcsi_gdsc):' + i)\n",
    "\n",
    "\n",
    "    train_sizes, train_scores, valid_scores = learning_curve(rf, \n",
    "    X=x3, y=y3, cv=rsk_fold)\n",
    "    valid_mean = np.mean(valid_scores, axis=1)\n",
    "    valid_std = np.std(valid_scores, axis=1)\n",
    "    plt.grid()\n",
    "    plt.plot(train_sizes, valid_mean, 'o-', color=\"r\", label='CV(gdsc_ccle):' + i)\n",
    "\n",
    "\n",
    "    plt.grid()\n",
    "    plt.legend(loc='upper left')\n",
    "    plt.savefig('figures/RF_tuned_removed/figure_tuned_' + i + '.png', dpi=500)\n",
    "    plt.close()\n",
    "    "
   ]
  },
  {
   "cell_type": "markdown",
   "metadata": {},
   "source": [
    "## 2. ADA Boosting"
   ]
  },
  {
   "cell_type": "code",
   "execution_count": 38,
   "metadata": {},
   "outputs": [],
   "source": [
    "ada_boost = AdaBoostClassifier(n_estimators=80)"
   ]
  },
  {
   "cell_type": "code",
   "execution_count": 109,
   "metadata": {},
   "outputs": [
    {
     "data": {
      "image/png": "[encoded data removed]",
      "text/plain": [
       "<Figure size 432x288 with 1 Axes>"
      ]
     },
     "metadata": {
      "needs_background": "light"
     },
     "output_type": "display_data"
    }
   ],
   "source": [
    "x1 = no_issues[[\"gdsc_median\"]].values\n",
    "y1 = no_issues[\"stability\"].values.ravel()\n",
    "\n",
    "plt.figure()\n",
    "plt.xlabel(\"Training examples\")\n",
    "plt.ylabel(\"Score (Accuracy)\")\n",
    "\n",
    "train_sizes, train_scores, valid_scores = learning_curve(ada_boost, \n",
    "X=x1, y=y1, cv=rsk_fold)\n",
    "valid_mean = np.mean(valid_scores, axis=1)\n",
    "valid_std = np.std(valid_scores, axis=1)\n",
    "plt.grid()\n",
    "plt.plot(train_sizes, valid_mean, 'o-', color=\"g\", label='CV(gcsi_ccle)')\n",
    "\n",
    "plt.grid()\n",
    "plt.legend(loc='upper left')\n",
    "plt.savefig('figures/test.png', dpi=500)"
   ]
  },
  {
   "cell_type": "markdown",
   "metadata": {},
   "source": [
    "#### Learning curves"
   ]
  },
  {
   "cell_type": "code",
   "execution_count": 39,
   "metadata": {},
   "outputs": [],
   "source": [
    "feat = ['median_exp','length','n_exon']\n",
    "for i in feat:\n",
    "    if (i == 'median_exp'):\n",
    "        x1 = transcript_stability_gcsi_ccle_f[[\"gdsc_median\"]].values\n",
    "        x2 = transcript_stability_gcsi_gdsc_f[[\"ccle_median\"]].values\n",
    "        x3 = transcript_stability_gdsc_ccle_f[[\"gcsi_median\"]].values\n",
    "    else:\n",
    "        x1 = transcript_stability_gcsi_ccle_f[[i]].values\n",
    "        x2 = transcript_stability_gcsi_gdsc_f[[i]].values\n",
    "        x3 = transcript_stability_gdsc_ccle_f[[i]].values\n",
    "    \n",
    "    y1 = transcript_stability_gcsi_ccle_f[\"stability\"].values.ravel()\n",
    "    y2 = transcript_stability_gcsi_gdsc_f[\"stability\"].values.ravel()\n",
    "    y3 = transcript_stability_gdsc_ccle_f[\"stability\"].values.ravel()\n",
    "    \n",
    "    plt.figure()\n",
    "    plt.xlabel(\"Training examples\")\n",
    "    plt.ylabel(\"Score (Accuracy)\")\n",
    "\n",
    "\n",
    "    train_sizes, train_scores, valid_scores = learning_curve(ada_boost, \n",
    "    X=x1, y=y1, cv=rsk_fold)\n",
    "    valid_mean = np.mean(valid_scores, axis=1)\n",
    "    valid_std = np.std(valid_scores, axis=1)\n",
    "    plt.grid()\n",
    "    plt.plot(train_sizes, valid_mean, 'o-', color=\"g\", label='CV(gcsi_ccle):'+ i)\n",
    "\n",
    "\n",
    "    train_sizes, train_scores, valid_scores = learning_curve(ada_boost, \n",
    "    X=x2, y=y2, cv=rsk_fold)\n",
    "    valid_mean = np.mean(valid_scores, axis=1)\n",
    "    valid_std = np.std(valid_scores, axis=1)\n",
    "    plt.grid()\n",
    "    plt.plot(train_sizes, valid_mean, 'o-', color=\"b\", label='CV(gcsi_gdsc):'+ i)\n",
    "\n",
    "\n",
    "    train_sizes, train_scores, valid_scores = learning_curve(ada_boost, \n",
    "    X=x3, y=y3, cv=rsk_fold)\n",
    "    valid_mean = np.mean(valid_scores, axis=1)\n",
    "    valid_std = np.std(valid_scores, axis=1)\n",
    "    plt.grid()\n",
    "    plt.plot(train_sizes, valid_mean, 'o-', color=\"r\", label='CV(gdsc_ccle):'+ i)\n",
    "\n",
    "\n",
    "    plt.grid()\n",
    "    plt.legend(loc='upper left')\n",
    "    plt.savefig('figures/ADA/figure_' + i + '.png', dpi=500)\n",
    "    plt.close()\n",
    "    "
   ]
  },
  {
   "cell_type": "markdown",
   "metadata": {},
   "source": [
    "## 3. Decision Tree"
   ]
  },
  {
   "cell_type": "code",
   "execution_count": 164,
   "metadata": {},
   "outputs": [],
   "source": [
    "d_tree = DecisionTreeClassifier(max_depth=8)"
   ]
  },
  {
   "cell_type": "code",
   "execution_count": 165,
   "metadata": {},
   "outputs": [
    {
     "data": {
      "image/png": "[encoded data removed]",
      "text/plain": [
       "<Figure size 432x288 with 1 Axes>"
      ]
     },
     "metadata": {
      "needs_background": "light"
     },
     "output_type": "display_data"
    }
   ],
   "source": [
    "plt.figure()\n",
    "plt.xlabel(\"Training examples\")\n",
    "plt.ylabel(\"Score (Accuracy)\")\n",
    "\n",
    "train_sizes, train_scores, valid_scores = learning_curve(d_tree, \n",
    "X=x1, y=y1, cv=sk_fold)\n",
    "valid_mean = np.mean(valid_scores, axis=1)\n",
    "valid_std = np.std(valid_scores, axis=1)\n",
    "plt.grid()\n",
    "plt.plot(train_sizes, valid_mean, 'o-', color=\"g\", label='CV(gcsi_ccle)')\n",
    "\n",
    "plt.grid()\n",
    "plt.legend(loc='upper left')\n",
    "plt.savefig('figures/test.png', dpi=500)"
   ]
  },
  {
   "cell_type": "code",
   "execution_count": null,
   "metadata": {},
   "outputs": [],
   "source": []
  }
 ],
 "metadata": {
  "kernelspec": {
   "display_name": "Python 3",
   "language": "python",
   "name": "python3"
  },
  "language_info": {
   "codemirror_mode": {
    "name": "ipython",
    "version": 3
   },
   "file_extension": ".py",
   "mimetype": "text/x-python",
   "name": "python",
   "nbconvert_exporter": "python",
   "pygments_lexer": "ipython3",
   "version": "3.7.7"
  }
 },
 "nbformat": 4,
 "nbformat_minor": 4
}
