{
 "cells": [
  {
   "cell_type": "code",
   "execution_count": 1,
   "metadata": {},
   "outputs": [],
   "source": [
    "import pyreadr\n",
    "import numpy as np\n",
    "import pandas as pd\n",
    "from imblearn.ensemble import BalancedRandomForestClassifier, RUSBoostClassifier\n",
    "from sklearn.ensemble import RandomForestClassifier, GradientBoostingClassifier,AdaBoostClassifier, BaggingClassifier, VotingClassifier\n",
    "from sklearn.model_selection import cross_val_score, cross_validate, cross_val_predict,RepeatedStratifiedKFold, StratifiedKFold, KFold, validation_curve, learning_curve\n",
    "from sklearn.metrics import confusion_matrix, f1_score, accuracy_score, recall_score, precision_score, precision_recall_curve, roc_auc_score, matthews_corrcoef\n",
    "from sklearn.utils import class_weight, compute_class_weight, compute_sample_weight\n",
    "from imblearn.over_sampling import SMOTE\n",
    "from sklearn.linear_model import LogisticRegression\n",
    "from sklearn.naive_bayes import ComplementNB\n",
    "from imblearn.pipeline import Pipeline, make_pipeline\n",
    "from sklearn.preprocessing import OneHotEncoder, LabelEncoder\n",
    "from sklearn.tree import DecisionTreeClassifier\n",
    "from sklearn.svm import SVC\n",
    "from sklearn.linear_model import Ridge\n",
    "import matplotlib.pyplot as plt"
   ]
  },
  {
   "cell_type": "markdown",
   "metadata": {},
   "source": [
    "# <u>Preprocess Data </u>"
   ]
  },
  {
   "cell_type": "markdown",
   "metadata": {},
   "source": [
    "### Import Transcript Stability Data"
   ]
  },
  {
   "cell_type": "code",
   "execution_count": 2,
   "metadata": {},
   "outputs": [],
   "source": [
    "transcript_stability = pyreadr.read_r('transcript_stability.RData')\n",
    "transcript_stability = transcript_stability[\"transcript_stability\"]\n",
    "transcript_stability = pd.DataFrame(transcript_stability)"
   ]
  },
  {
   "cell_type": "markdown",
   "metadata": {},
   "source": [
    "### Remove transcript version from id's (*.number)"
   ]
  },
  {
   "cell_type": "code",
   "execution_count": 3,
   "metadata": {},
   "outputs": [],
   "source": [
    "transcript_stability[\"transcript_id\"] = transcript_stability[\"transcript_id\"].str.split(\".\").str[0]"
   ]
  },
  {
   "cell_type": "markdown",
   "metadata": {},
   "source": [
    "### Remove Housekeeping transcripts"
   ]
  },
  {
   "cell_type": "code",
   "execution_count": 4,
   "metadata": {},
   "outputs": [],
   "source": [
    "h = pd.read_csv(\"Housekeeping_TranscriptsHuman.csv\", delimiter=\";\")\n",
    "house_genes = h[\"Ensembl\"].values\n",
    "transcript_stability = transcript_stability[~transcript_stability[\"transcript_id\"].isin(house_genes)]"
   ]
  },
  {
   "cell_type": "markdown",
   "metadata": {},
   "source": [
    "### Isolate most unstable + most stable for testing"
   ]
  },
  {
   "cell_type": "code",
   "execution_count": 5,
   "metadata": {},
   "outputs": [],
   "source": [
    "stable = transcript_stability[transcript_stability[\"stability\"]==\"YES\"]"
   ]
  },
  {
   "cell_type": "code",
   "execution_count": 6,
   "metadata": {},
   "outputs": [],
   "source": [
    "unstable = transcript_stability[(transcript_stability[\"gcsi_ccle\"] < 0.085) & (transcript_stability[\"gcsi_gdsc\"] < 0.085) & (transcript_stability[\"gdsc_ccle\"] < 0.085)]"
   ]
  },
  {
   "cell_type": "code",
   "execution_count": 7,
   "metadata": {},
   "outputs": [],
   "source": [
    "transcript_stability = stable.append(unstable)"
   ]
  },
  {
   "cell_type": "markdown",
   "metadata": {},
   "source": [
    "### Extract median expression & spearman stability only "
   ]
  },
  {
   "cell_type": "code",
   "execution_count": 8,
   "metadata": {},
   "outputs": [],
   "source": [
    "transcript_stability = transcript_stability.loc[:,['combined_median','stability']]"
   ]
  },
  {
   "cell_type": "markdown",
   "metadata": {},
   "source": [
    "### Show dataset inbalance"
   ]
  },
  {
   "cell_type": "code",
   "execution_count": 9,
   "metadata": {},
   "outputs": [
    {
     "name": "stdout",
     "output_type": "stream",
     "text": [
      "NO     2743\n",
      "YES    2647\n",
      "Name: stability, dtype: int64\n"
     ]
    },
    {
     "data": {
      "image/png": "[encoded data removed]",
      "text/plain": [
       "<Figure size 432x432 with 1 Axes>"
      ]
     },
     "metadata": {},
     "output_type": "display_data"
    }
   ],
   "source": [
    "plt.figure(figsize=(6,6))\n",
    "pd.Series(transcript_stability['stability']).value_counts().plot(kind ='pie', autopct='%1.2f%%')\n",
    "print(pd.Series(transcript_stability['stability']).value_counts())"
   ]
  },
  {
   "cell_type": "markdown",
   "metadata": {},
   "source": [
    "# <u>Build Random Forest classifier </u>"
   ]
  },
  {
   "cell_type": "markdown",
   "metadata": {},
   "source": [
    "## 1. Basic Random Forest Classifier with k-fold cross validation"
   ]
  },
  {
   "cell_type": "code",
   "execution_count": 22,
   "metadata": {},
   "outputs": [
    {
     "name": "stderr",
     "output_type": "stream",
     "text": [
      "/Users/anthmam/.pyenv/versions/anaconda3-2019.10/lib/python3.7/site-packages/sklearn/model_selection/_split.py:297: FutureWarning: Setting a random_state has no effect since shuffle is False. This will raise an error in 0.24. You should leave random_state to its default (None), or set shuffle=True.\n",
      "  FutureWarning\n"
     ]
    }
   ],
   "source": [
    "#x1 = transcript_stability[[\"combined_median\",\"combined_mad\"]].values # convert into 2D array\n",
    "x1 = transcript_stability[\"combined_median\"].values.reshape(-1, 1)\n",
    "y1 = transcript_stability[\"stability\"].values.ravel() # convert into 1D array\n",
    "rf = RandomForestClassifier(n_estimators=100, random_state=42, max_depth=4, oob_score=True) #define classifier with n trees\n",
    "k_fold = KFold(n_splits=10, random_state=42) "
   ]
  },
  {
   "cell_type": "code",
   "execution_count": 11,
   "metadata": {},
   "outputs": [],
   "source": [
    "rf_scores = cross_val_score(rf, x1, y1, cv=k_fold, n_jobs=2, pre_dispatch=4)"
   ]
  },
  {
   "cell_type": "code",
   "execution_count": 12,
   "metadata": {},
   "outputs": [
    {
     "name": "stdout",
     "output_type": "stream",
     "text": [
      "Accuracy: 89.13%\n"
     ]
    }
   ],
   "source": [
    "print(\"Accuracy: %.2f%%\" % (rf_scores.mean()*100.0))"
   ]
  },
  {
   "cell_type": "markdown",
   "metadata": {},
   "source": [
    "### Obtain confusion matrix for predicted values"
   ]
  },
  {
   "cell_type": "code",
   "execution_count": 13,
   "metadata": {},
   "outputs": [],
   "source": [
    "rf_pred = cross_val_predict(rf, x1, y1, cv=k_fold, n_jobs=3, pre_dispatch=6) #10-fold CV\n",
    "labels = np.unique(y1)\n",
    "rf_conf_mat = confusion_matrix(y1, rf_pred, labels=labels)"
   ]
  },
  {
   "cell_type": "code",
   "execution_count": 14,
   "metadata": {},
   "outputs": [
    {
     "data": {
      "text/html": [
       "<div>\n",
       "<style scoped>\n",
       "    .dataframe tbody tr th:only-of-type {\n",
       "        vertical-align: middle;\n",
       "    }\n",
       "\n",
       "    .dataframe tbody tr th {\n",
       "        vertical-align: top;\n",
       "    }\n",
       "\n",
       "    .dataframe thead th {\n",
       "        text-align: right;\n",
       "    }\n",
       "</style>\n",
       "<table border=\"1\" class=\"dataframe\">\n",
       "  <thead>\n",
       "    <tr style=\"text-align: right;\">\n",
       "      <th></th>\n",
       "      <th>NO</th>\n",
       "      <th>YES</th>\n",
       "    </tr>\n",
       "  </thead>\n",
       "  <tbody>\n",
       "    <tr>\n",
       "      <td>NO</td>\n",
       "      <td>2461</td>\n",
       "      <td>282</td>\n",
       "    </tr>\n",
       "    <tr>\n",
       "      <td>YES</td>\n",
       "      <td>304</td>\n",
       "      <td>2343</td>\n",
       "    </tr>\n",
       "  </tbody>\n",
       "</table>\n",
       "</div>"
      ],
      "text/plain": [
       "       NO   YES\n",
       "NO   2461   282\n",
       "YES   304  2343"
      ]
     },
     "execution_count": 14,
     "metadata": {},
     "output_type": "execute_result"
    }
   ],
   "source": [
    "pd.DataFrame(rf_conf_mat, index=labels, columns=labels)"
   ]
  },
  {
   "cell_type": "code",
   "execution_count": 15,
   "metadata": {},
   "outputs": [
    {
     "name": "stdout",
     "output_type": "stream",
     "text": [
      "0.8851530034000755\n",
      "0.8925714285714286\n",
      "0.8888467374810319\n"
     ]
    }
   ],
   "source": [
    "print(recall_score(y1, rf_pred, pos_label=\"YES\"))\n",
    "print(precision_score(y1, rf_pred, pos_label=\"YES\"))\n",
    "print(f1_score(y1, rf_pred, pos_label=\"YES\"))"
   ]
  },
  {
   "cell_type": "code",
   "execution_count": 16,
   "metadata": {},
   "outputs": [],
   "source": [
    "rf_y1 = np.where(y1 ==\"YES\", True, False)\n",
    "rf_pred2 = np.where(rf_pred ==\"YES\", True, False)\n",
    "rf_roc_auc = roc_auc_score(rf_y1, rf_pred2)"
   ]
  },
  {
   "cell_type": "code",
   "execution_count": 17,
   "metadata": {},
   "outputs": [
    {
     "data": {
      "text/plain": [
       "0.8911729289694509"
      ]
     },
     "execution_count": 17,
     "metadata": {},
     "output_type": "execute_result"
    }
   ],
   "source": [
    "rf_roc_auc"
   ]
  },
  {
   "cell_type": "code",
   "execution_count": 1194,
   "metadata": {},
   "outputs": [
    {
     "name": "stdout",
     "output_type": "stream",
     "text": [
      "Score:  0.9280148423005566\n"
     ]
    }
   ],
   "source": [
    "rf.fit(x1, y1)\n",
    "print('Score: ', rf.score(x1, y1))"
   ]
  },
  {
   "cell_type": "code",
   "execution_count": 19,
   "metadata": {},
   "outputs": [],
   "source": [
    "train_scores, test_scores = validation_curve(RandomForestClassifier(), \n",
    "                                             x1, \n",
    "                                             y1,\n",
    "                                             cv=10,\n",
    "                                             param_name=\"n_estimators\",\n",
    "                                             param_range=np.arange(1, 100, 20),\n",
    "                                             scoring=\"accuracy\", \n",
    "                                             n_jobs=-1)"
   ]
  },
  {
   "cell_type": "code",
   "execution_count": 20,
   "metadata": {},
   "outputs": [
    {
     "data": {
      "image/png": "[encoded data removed]",
      "text/plain": [
       "<Figure size 432x288 with 1 Axes>"
      ]
     },
     "metadata": {
      "needs_background": "light"
     },
     "output_type": "display_data"
    }
   ],
   "source": [
    "param_range=np.arange(1, 100, 20)\n",
    "# Calculate mean and standard deviation for training set scores\n",
    "train_mean = np.mean(train_scores, axis=1)\n",
    "train_std = np.std(train_scores, axis=1)\n",
    "\n",
    "# Calculate mean and standard deviation for test set scores\n",
    "test_mean = np.mean(test_scores, axis=1)\n",
    "test_std = np.std(test_scores, axis=1)\n",
    "\n",
    "# Plot mean accuracy scores for training and test sets\n",
    "plt.plot(param_range, train_mean, label=\"Training score\", color=\"black\")\n",
    "plt.plot(param_range, test_mean, label=\"Cross-validation score\", color=\"dimgrey\")\n",
    "\n",
    "# Plot accurancy bands for training and test sets\n",
    "plt.fill_between(param_range, train_mean - train_std, train_mean + train_std, color=\"gray\")\n",
    "plt.fill_between(param_range, test_mean - test_std, test_mean + test_std, color=\"gainsboro\")\n",
    "\n",
    "# Create plot\n",
    "plt.title(\"Validation Curve With Random Forest\")\n",
    "plt.xlabel(\"Number Of Trees\")\n",
    "plt.ylabel(\"Accuracy Score\")\n",
    "plt.tight_layout()\n",
    "plt.legend(loc=\"best\")\n",
    "plt.show()"
   ]
  },
  {
   "cell_type": "code",
   "execution_count": 28,
   "metadata": {},
   "outputs": [
    {
     "data": {
      "text/plain": [
       "[<matplotlib.lines.Line2D at 0x1a19e0c550>]"
      ]
     },
     "execution_count": 28,
     "metadata": {},
     "output_type": "execute_result"
    },
    {
     "data": {
      "image/png": "[encoded data removed]",
      "text/plain": [
       "<Figure size 432x288 with 1 Axes>"
      ]
     },
     "metadata": {
      "needs_background": "light"
     },
     "output_type": "display_data"
    }
   ],
   "source": [
    "train_sizes, train_scores, valid_scores = learning_curve(RandomForestClassifier(n_estimators=50, random_state=42, max_depth=4), \n",
    "X=x1, y=y1, cv=k_fold)\n",
    "\n",
    "train_mean = np.mean(train_scores, axis=1)\n",
    "train_std = np.std(train_scores, axis=1)\n",
    "valid_mean = np.mean(valid_scores, axis=1)\n",
    "valid_std = np.std(valid_scores, axis=1)\n",
    "plt.plot(train_sizes, train_mean, color='blue', marker='o',markersize=5, label='training accuracy')\n",
    "plt.plot(train_sizes, valid_mean, color='red', marker='o', markersize=5, label='valid accuracy')"
   ]
  },
  {
   "cell_type": "code",
   "execution_count": 30,
   "metadata": {},
   "outputs": [],
   "source": [
    "def plot_learning_curves(Estimator, X, y, title='', ylim=None, cv=None, n_jobs=1, train_sizes=np.linspace(0.1, 1.0, 5)):\n",
    "#******************************************************************************\n",
    "\t\"\"\"\n",
    "\tGenerate a plot of the test and traning learning curve.\n",
    "\n",
    "\tParameters\n",
    "\t----------\n",
    "\tEstimator : object type that implements the \"fit\" and \"predict\" methods\n",
    "\t    An object of that type which is cloned for each validation.\n",
    "\n",
    "\ttitle : string\n",
    "\t    Title for the chart.\n",
    "\n",
    "\tX : array-like, shape (n_samples, n_features)\n",
    "\t    Training vector, where n_samples is the number of samples and\n",
    "\t    n_features is the number of features.\n",
    "\n",
    "\ty : array-like, shape (n_samples) or (n_samples, n_features), optional\n",
    "\t    Target relative to X for classification or regression;\n",
    "\t    None for unsupervised learning.\n",
    "\n",
    "\tylim : tuple, shape (ymin, ymax), optional\n",
    "\t    Defines minimum and maximum yvalues plotted.\n",
    "\n",
    "\tcv : integer, cross-validation generator, optional\n",
    "\t    If an integer is passed, it is the number of folds (defaults to 3).\n",
    "\t    Specific cross-validation objects can be passed, see\n",
    "\t    sklearn.cross_validation module for the list of possible objects\n",
    "\t\"\"\"\n",
    "#******************************************************************************\n",
    "\tplt.figure()\n",
    "\tplt.title(title)\n",
    "\tif ylim is not None:\n",
    "\t    plt.ylim(*ylim)\n",
    "\tplt.xlabel(\"Training examples\")\n",
    "\tplt.ylabel(\"Score\")\n",
    "\ttrain_sizes, train_scores, test_scores = learning_curve(Estimator, X, y, cv=cv, train_sizes=train_sizes)\n",
    "\ttrain_scores_mean = np.mean(train_scores, axis=1)\n",
    "\ttrain_scores_std = np.std(train_scores, axis=1)\n",
    "\ttest_scores_mean = np.mean(test_scores, axis=1)\n",
    "\ttest_scores_std = np.std(test_scores, axis=1)\n",
    "\tplt.grid()\n",
    "\n",
    "\tplt.fill_between(train_sizes, train_scores_mean - train_scores_std,\n",
    "\t                 train_scores_mean + train_scores_std, alpha=0.1,\n",
    "\t                 color=\"r\")\n",
    "\tplt.fill_between(train_sizes, test_scores_mean - test_scores_std,\n",
    "\t                 test_scores_mean + test_scores_std, alpha=0.1, color=\"g\")\n",
    "\tplt.plot(train_sizes, train_scores_mean, 'o-', color=\"r\",\n",
    "\t         label=\"Training score\")\n",
    "\tplt.plot(train_sizes, test_scores_mean, 'o-', color=\"g\",\n",
    "\t         label=\"Cross-validation score\")\n",
    "\n",
    "\tplt.legend(loc=\"best\")\n",
    "\treturn plt\n",
    "#end\n"
   ]
  },
  {
   "cell_type": "code",
   "execution_count": 32,
   "metadata": {},
   "outputs": [
    {
     "data": {
      "text/plain": [
       "<module 'matplotlib.pyplot' from '/Users/anthmam/.pyenv/versions/anaconda3-2019.10/lib/python3.7/site-packages/matplotlib/pyplot.py'>"
      ]
     },
     "execution_count": 32,
     "metadata": {},
     "output_type": "execute_result"
    },
    {
     "data": {
      "image/png": "[encoded data removed]",
      "text/plain": [
       "<Figure size 432x288 with 1 Axes>"
      ]
     },
     "metadata": {
      "needs_background": "light"
     },
     "output_type": "display_data"
    }
   ],
   "source": [
    "plot_learning_curves(RandomForestClassifier(n_estimators=100), x1, y1, title = \"tester\", ylim=(0.0, 1.01), cv=k_fold)"
   ]
  },
  {
   "cell_type": "code",
   "execution_count": 39,
   "metadata": {
    "scrolled": false
   },
   "outputs": [
    {
     "data": {
      "text/plain": [
       "<module 'matplotlib.pyplot' from '/Users/anthmam/.pyenv/versions/anaconda3-2019.10/lib/python3.7/site-packages/matplotlib/pyplot.py'>"
      ]
     },
     "execution_count": 39,
     "metadata": {},
     "output_type": "execute_result"
    },
    {
     "data": {
      "image/png": "[encoded data removed]",
      "text/plain": [
       "<Figure size 432x288 with 1 Axes>"
      ]
     },
     "metadata": {
      "needs_background": "light"
     },
     "output_type": "display_data"
    }
   ],
   "source": [
    "plot_learning_curves(RandomForestClassifier(n_estimators=100, max_depth=4), x1, y1, title = \"tester\", ylim=(0.0, 1.01), cv=k_fold)"
   ]
  },
  {
   "cell_type": "markdown",
   "metadata": {},
   "source": [
    "### Plot Precision-Recall Curve"
   ]
  },
  {
   "cell_type": "markdown",
   "metadata": {},
   "source": [
    "- Precision-Recall is a useful measure of success of prediction when the classes are very imbalanced.\n",
    "\n",
    "- Precision: What proportion of positive identifications (\"YES\") was actually correct? If my model has a precision of 0.5—in other words, when it predicts a transcript is stable, it is correct 50% of the time.(No false positives = precision of 1.0).\n",
    "\n",
    "- Recall: What proportion of actual positives was identified correctly (No false negatives = recall of 1.0)? If my model has a recall of 0.11—in other words, it correctly identifies 11% of all stable transcripts.\n",
    "\n",
    "\n",
    "- Overall: A high AUC represents both high recall and high precision, where high precision relates to a low false positive rate, and high recall relates to a low false negative rate."
   ]
  },
  {
   "cell_type": "markdown",
   "metadata": {},
   "source": [
    "#### Vary Max_Depth"
   ]
  },
  {
   "cell_type": "code",
   "execution_count": 816,
   "metadata": {
    "scrolled": false
   },
   "outputs": [
    {
     "data": {
      "image/png": "[encoded data removed]",
      "text/plain": [
       "<Figure size 432x288 with 1 Axes>"
      ]
     },
     "metadata": {
      "needs_background": "light"
     },
     "output_type": "display_data"
    }
   ],
   "source": [
    "precision = dict()\n",
    "recall = dict()\n",
    "\n",
    "for i in range(2,9):\n",
    "    rf = RandomForestClassifier(n_estimators=100, random_state=42, max_depth=i)\n",
    "    rf_pred = cross_val_predict(rf, x1, y1, cv=5, n_jobs=3, pre_dispatch=6)\n",
    "    y2 = np.where(y1 ==\"YES\", True, False)\n",
    "    rf_pred2 = np.where(rf_pred ==\"YES\", True, False)\n",
    "    precision[i], recall[i], _ = precision_recall_curve(y2, rf_pred2)\n",
    "    plt.plot(recall[i], precision[i], lw=2, label='depth {}'.format(i))\n",
    "\n",
    "plt.xlabel(\"recall\")\n",
    "plt.ylabel(\"precision\")\n",
    "plt.legend(loc=\"best\")\n",
    "plt.title(\"precision vs. recall curve\")\n",
    "plt.show()"
   ]
  },
  {
   "cell_type": "markdown",
   "metadata": {},
   "source": [
    "#### Vary n_trees with max_depth of 2 "
   ]
  },
  {
   "cell_type": "code",
   "execution_count": 817,
   "metadata": {
    "scrolled": true
   },
   "outputs": [
    {
     "data": {
      "image/png": "[encoded data removed]",
      "text/plain": [
       "<Figure size 432x288 with 1 Axes>"
      ]
     },
     "metadata": {
      "needs_background": "light"
     },
     "output_type": "display_data"
    }
   ],
   "source": [
    "precision = dict()\n",
    "recall = dict()\n",
    "trees = [100,200,300,400,500]\n",
    "for i in trees:\n",
    "    rf = RandomForestClassifier(n_estimators=i, random_state=42, max_depth=2)\n",
    "    rf_pred = cross_val_predict(rf, x1, y1, cv=5, n_jobs=3, pre_dispatch=6)\n",
    "    y2 = np.where(y1 ==\"YES\", True, False)\n",
    "    rf_pred2 = np.where(rf_pred ==\"YES\", True, False)\n",
    "    precision[i], recall[i], _ = precision_recall_curve(y2, rf_pred2)\n",
    "    plt.plot(recall[i], precision[i], lw=2, label='n_trees {}'.format(i))\n",
    "\n",
    "plt.xlabel(\"recall\")\n",
    "plt.ylabel(\"precision\")\n",
    "plt.legend(loc=\"best\")\n",
    "plt.title(\"precision vs. recall curve\")\n",
    "plt.show()"
   ]
  },
  {
   "cell_type": "markdown",
   "metadata": {},
   "source": [
    "#### Table of performance (Precision, Recall, F-score) with varying N-trees, 10-fold CV"
   ]
  },
  {
   "cell_type": "code",
   "execution_count": 15,
   "metadata": {},
   "outputs": [],
   "source": [
    "precision = []\n",
    "recall = []\n",
    "f1 = []\n",
    "\n",
    "trees = [50,100,200,300]\n",
    "for i in trees:\n",
    "    rf = RandomForestClassifier(n_estimators=i, random_state=42)\n",
    "    rf_pred = cross_val_predict(rf, x1, y1, cv=10, n_jobs=3, pre_dispatch=6)\n",
    "    f1_s = f1_score(y1, rf_pred, pos_label=\"YES\")\n",
    "    recall_s = recall_score(y1, rf_pred, pos_label=\"YES\")\n",
    "    precision_s = precision_score(y1, rf_pred, pos_label=\"YES\")\n",
    "    f1.append(f1_s)\n",
    "    recall.append(recall_s)\n",
    "    precision.append(precision_s)"
   ]
  },
  {
   "cell_type": "code",
   "execution_count": 16,
   "metadata": {},
   "outputs": [],
   "source": [
    "data = {'Precision':precision, 'Recall':recall, \"F1\":f1}"
   ]
  },
  {
   "cell_type": "code",
   "execution_count": 17,
   "metadata": {},
   "outputs": [
    {
     "data": {
      "text/html": [
       "<div>\n",
       "<style scoped>\n",
       "    .dataframe tbody tr th:only-of-type {\n",
       "        vertical-align: middle;\n",
       "    }\n",
       "\n",
       "    .dataframe tbody tr th {\n",
       "        vertical-align: top;\n",
       "    }\n",
       "\n",
       "    .dataframe thead th {\n",
       "        text-align: right;\n",
       "    }\n",
       "</style>\n",
       "<table border=\"1\" class=\"dataframe\">\n",
       "  <thead>\n",
       "    <tr style=\"text-align: right;\">\n",
       "      <th></th>\n",
       "      <th>Precision</th>\n",
       "      <th>Recall</th>\n",
       "      <th>F1</th>\n",
       "    </tr>\n",
       "  </thead>\n",
       "  <tbody>\n",
       "    <tr>\n",
       "      <td>50</td>\n",
       "      <td>0.056780</td>\n",
       "      <td>0.047216</td>\n",
       "      <td>0.051558</td>\n",
       "    </tr>\n",
       "    <tr>\n",
       "      <td>100</td>\n",
       "      <td>0.054455</td>\n",
       "      <td>0.046512</td>\n",
       "      <td>0.050171</td>\n",
       "    </tr>\n",
       "    <tr>\n",
       "      <td>200</td>\n",
       "      <td>0.054276</td>\n",
       "      <td>0.046512</td>\n",
       "      <td>0.050095</td>\n",
       "    </tr>\n",
       "    <tr>\n",
       "      <td>300</td>\n",
       "      <td>0.054276</td>\n",
       "      <td>0.046512</td>\n",
       "      <td>0.050095</td>\n",
       "    </tr>\n",
       "    <tr>\n",
       "      <td>400</td>\n",
       "      <td>0.054276</td>\n",
       "      <td>0.046512</td>\n",
       "      <td>0.050095</td>\n",
       "    </tr>\n",
       "  </tbody>\n",
       "</table>\n",
       "</div>"
      ],
      "text/plain": [
       "     Precision    Recall        F1\n",
       "50    0.056780  0.047216  0.051558\n",
       "100   0.054455  0.046512  0.050171\n",
       "200   0.054276  0.046512  0.050095\n",
       "300   0.054276  0.046512  0.050095\n",
       "400   0.054276  0.046512  0.050095"
      ]
     },
     "execution_count": 17,
     "metadata": {},
     "output_type": "execute_result"
    }
   ],
   "source": [
    "rf_table = pd.DataFrame(data)\n",
    "rf_table.index = ['50', '100', '200', '300']\n",
    "rf_table"
   ]
  },
  {
   "cell_type": "markdown",
   "metadata": {},
   "source": [
    "## 2. Balanced Random Forest Classifier with k-fold cross validation"
   ]
  },
  {
   "cell_type": "markdown",
   "metadata": {},
   "source": [
    "- Will downsample majority class (unstable transcripts)\n",
    "- For each tree in RF, down-sample the majority class to the same size as the minority class\n",
    "- Given enough trees, all training data are used, so no loss of information\n",
    "- Computationally efficient, since each tree only sees a small sample\n"
   ]
  },
  {
   "cell_type": "code",
   "execution_count": 663,
   "metadata": {},
   "outputs": [],
   "source": [
    "brf = BalancedRandomForestClassifier(n_estimators=100, random_state=42, \n",
    "                                     criterion='gini', max_depth=3) #6, 5\n",
    "k_fold = KFold(n_splits=10, random_state=42, shuffle=True)\n",
    "sk_fold = StratifiedKFold(n_splits=10, random_state=42, shuffle=True) #stratified better for unbalanced datasets"
   ]
  },
  {
   "cell_type": "code",
   "execution_count": 617,
   "metadata": {},
   "outputs": [],
   "source": [
    "brf_scores = cross_val_score(brf, x1, y1, cv=k_fold, n_jobs=2, pre_dispatch=4)"
   ]
  },
  {
   "cell_type": "code",
   "execution_count": 618,
   "metadata": {},
   "outputs": [
    {
     "name": "stdout",
     "output_type": "stream",
     "text": [
      "Accuracy: 90.89%\n"
     ]
    }
   ],
   "source": [
    "print(\"Accuracy: %.2f%%\" % (brf_scores.mean()*100.0))"
   ]
  },
  {
   "cell_type": "markdown",
   "metadata": {},
   "source": [
    "### Obtain confusion matrix for predicted values"
   ]
  },
  {
   "cell_type": "code",
   "execution_count": 830,
   "metadata": {},
   "outputs": [],
   "source": [
    "brf_pred = cross_val_predict(brf, x1, y1, cv=k_fold, n_jobs=3, pre_dispatch=6)\n",
    "labels = np.unique(y1)\n",
    "conf_mat = confusion_matrix(y1, brf_pred, labels=labels)"
   ]
  },
  {
   "cell_type": "code",
   "execution_count": 831,
   "metadata": {},
   "outputs": [
    {
     "data": {
      "text/html": [
       "<div>\n",
       "<style scoped>\n",
       "    .dataframe tbody tr th:only-of-type {\n",
       "        vertical-align: middle;\n",
       "    }\n",
       "\n",
       "    .dataframe tbody tr th {\n",
       "        vertical-align: top;\n",
       "    }\n",
       "\n",
       "    .dataframe thead th {\n",
       "        text-align: right;\n",
       "    }\n",
       "</style>\n",
       "<table border=\"1\" class=\"dataframe\">\n",
       "  <thead>\n",
       "    <tr style=\"text-align: right;\">\n",
       "      <th></th>\n",
       "      <th>NO</th>\n",
       "      <th>YES</th>\n",
       "    </tr>\n",
       "  </thead>\n",
       "  <tbody>\n",
       "    <tr>\n",
       "      <td>NO</td>\n",
       "      <td>43861</td>\n",
       "      <td>32135</td>\n",
       "    </tr>\n",
       "    <tr>\n",
       "      <td>YES</td>\n",
       "      <td>507</td>\n",
       "      <td>2140</td>\n",
       "    </tr>\n",
       "  </tbody>\n",
       "</table>\n",
       "</div>"
      ],
      "text/plain": [
       "        NO    YES\n",
       "NO   43861  32135\n",
       "YES    507   2140"
      ]
     },
     "execution_count": 831,
     "metadata": {},
     "output_type": "execute_result"
    }
   ],
   "source": [
    "pd.DataFrame(conf_mat, index=labels, columns=labels)"
   ]
  },
  {
   "cell_type": "code",
   "execution_count": 832,
   "metadata": {},
   "outputs": [
    {
     "name": "stdout",
     "output_type": "stream",
     "text": [
      "0.8084624102757839\n",
      "0.06243617797228301\n"
     ]
    }
   ],
   "source": [
    "print(recall_score(y1, brf_pred, pos_label=\"YES\"))\n",
    "print(precision_score(y1, brf_pred, pos_label=\"YES\"))"
   ]
  },
  {
   "cell_type": "code",
   "execution_count": 834,
   "metadata": {},
   "outputs": [
    {
     "data": {
      "text/plain": [
       "0.14024853318019925"
      ]
     },
     "execution_count": 834,
     "metadata": {},
     "output_type": "execute_result"
    }
   ],
   "source": [
    "matthew = matthews_corrcoef(y1, brf_pred)\n",
    "matthew"
   ]
  },
  {
   "cell_type": "markdown",
   "metadata": {},
   "source": [
    "#### Vary Max_Depth"
   ]
  },
  {
   "cell_type": "code",
   "execution_count": 544,
   "metadata": {},
   "outputs": [
    {
     "data": {
      "image/png": "[encoded data removed]",
      "text/plain": [
       "<Figure size 432x288 with 1 Axes>"
      ]
     },
     "metadata": {
      "needs_background": "light"
     },
     "output_type": "display_data"
    }
   ],
   "source": [
    "precision = dict()\n",
    "recall = dict()\n",
    "k_fold = KFold(n_splits=10, random_state=42, shuffle=True)\n",
    "for i in range(2,9):\n",
    "    brf = BalancedRandomForestClassifier(n_estimators=100, random_state=42, max_depth=i)\n",
    "    brf_pred = cross_val_predict(brf, x1, y1, cv=k_fold, n_jobs=3, pre_dispatch=6)\n",
    "    y2 = np.where(y1 ==\"YES\", True, False)\n",
    "    brf_pred2 = np.where(brf_pred ==\"YES\", True, False)\n",
    "    precision[i], recall[i], _ = precision_recall_curve(y2, brf_pred2)\n",
    "    plt.plot(recall[i], precision[i], lw=2, label='depth {}'.format(i))\n",
    "\n",
    "plt.xlabel(\"recall\")\n",
    "plt.ylabel(\"precision\")\n",
    "plt.legend(loc=\"best\")\n",
    "plt.title(\"precision vs. recall curve\")\n",
    "plt.show()"
   ]
  },
  {
   "cell_type": "markdown",
   "metadata": {},
   "source": [
    "#### Vary n_trees with max_depth of 2"
   ]
  },
  {
   "cell_type": "code",
   "execution_count": 545,
   "metadata": {},
   "outputs": [
    {
     "data": {
      "image/png": "[encoded data removed]",
      "text/plain": [
       "<Figure size 432x288 with 1 Axes>"
      ]
     },
     "metadata": {
      "needs_background": "light"
     },
     "output_type": "display_data"
    }
   ],
   "source": [
    "precision = dict()\n",
    "recall = dict()\n",
    "trees = [50,100,200,300]\n",
    "for i in trees:\n",
    "    brf = BalancedRandomForestClassifier(n_estimators=i, random_state=42, max_depth=2)\n",
    "    brf_pred = cross_val_predict(brf, x1, y1, cv=k_fold, n_jobs=3, pre_dispatch=6)\n",
    "    y2 = np.where(y1 ==\"YES\", True, False)\n",
    "    brf_pred2 = np.where(brf_pred ==\"YES\", True, False)\n",
    "    precision[i], recall[i], _ = precision_recall_curve(y2, brf_pred2)\n",
    "    plt.plot(recall[i], precision[i], lw=2, label='n_trees {}'.format(i))\n",
    "\n",
    "plt.xlabel(\"recall\")\n",
    "plt.ylabel(\"precision\")\n",
    "plt.legend(loc=\"best\")\n",
    "plt.title(\"precision vs. recall curve\")\n",
    "plt.show()"
   ]
  },
  {
   "cell_type": "markdown",
   "metadata": {},
   "source": [
    "#### Table of performance (Precision, Recall, F-score) with max_depth (k-fold CV)"
   ]
  },
  {
   "cell_type": "code",
   "execution_count": 667,
   "metadata": {},
   "outputs": [],
   "source": [
    "precision = []\n",
    "recall = []\n",
    "f1 = []\n",
    "k_fold = KFold(n_splits=5, random_state=42, shuffle=True)\n",
    "md = [2,3,4,5,6]\n",
    "for i in md:\n",
    "    brf = BalancedRandomForestClassifier(n_estimators=100, random_state=42, max_depth=i)\n",
    "    brf_pred = cross_val_predict(brf, x1, y1, cv=k_fold, n_jobs=3, pre_dispatch=6)\n",
    "    f1_s = f1_score(y1, brf_pred, pos_label=\"YES\")\n",
    "    recall_s = recall_score(y1, brf_pred, pos_label=\"YES\")\n",
    "    precision_s = precision_score(y1, brf_pred, pos_label=\"YES\")\n",
    "    f1.append(f1_s)\n",
    "    recall.append(recall_s)\n",
    "    precision.append(precision_s)"
   ]
  },
  {
   "cell_type": "code",
   "execution_count": 668,
   "metadata": {},
   "outputs": [],
   "source": [
    "data = {'Precision':precision, 'Recall':recall, \"F1\":f1}"
   ]
  },
  {
   "cell_type": "code",
   "execution_count": 669,
   "metadata": {},
   "outputs": [
    {
     "data": {
      "text/html": [
       "<div>\n",
       "<style scoped>\n",
       "    .dataframe tbody tr th:only-of-type {\n",
       "        vertical-align: middle;\n",
       "    }\n",
       "\n",
       "    .dataframe tbody tr th {\n",
       "        vertical-align: top;\n",
       "    }\n",
       "\n",
       "    .dataframe thead th {\n",
       "        text-align: right;\n",
       "    }\n",
       "</style>\n",
       "<table border=\"1\" class=\"dataframe\">\n",
       "  <thead>\n",
       "    <tr style=\"text-align: right;\">\n",
       "      <th></th>\n",
       "      <th>Precision</th>\n",
       "      <th>Recall</th>\n",
       "      <th>F1</th>\n",
       "    </tr>\n",
       "  </thead>\n",
       "  <tbody>\n",
       "    <tr>\n",
       "      <td>2</td>\n",
       "      <td>0.062429</td>\n",
       "      <td>0.810351</td>\n",
       "      <td>0.115927</td>\n",
       "    </tr>\n",
       "    <tr>\n",
       "      <td>3</td>\n",
       "      <td>0.062471</td>\n",
       "      <td>0.808462</td>\n",
       "      <td>0.115980</td>\n",
       "    </tr>\n",
       "    <tr>\n",
       "      <td>4</td>\n",
       "      <td>0.062379</td>\n",
       "      <td>0.802796</td>\n",
       "      <td>0.115763</td>\n",
       "    </tr>\n",
       "    <tr>\n",
       "      <td>5</td>\n",
       "      <td>0.062537</td>\n",
       "      <td>0.798262</td>\n",
       "      <td>0.115987</td>\n",
       "    </tr>\n",
       "    <tr>\n",
       "      <td>6</td>\n",
       "      <td>0.062190</td>\n",
       "      <td>0.789951</td>\n",
       "      <td>0.115302</td>\n",
       "    </tr>\n",
       "  </tbody>\n",
       "</table>\n",
       "</div>"
      ],
      "text/plain": [
       "   Precision    Recall        F1\n",
       "2   0.062429  0.810351  0.115927\n",
       "3   0.062471  0.808462  0.115980\n",
       "4   0.062379  0.802796  0.115763\n",
       "5   0.062537  0.798262  0.115987\n",
       "6   0.062190  0.789951  0.115302"
      ]
     },
     "execution_count": 669,
     "metadata": {},
     "output_type": "execute_result"
    }
   ],
   "source": [
    "brf_table = pd.DataFrame(data)\n",
    "brf_table.index = ['2', '3', '4', '5', '6']\n",
    "brf_table"
   ]
  },
  {
   "cell_type": "markdown",
   "metadata": {},
   "source": [
    "#### Table of performance (Precision, Recall, F-score) with varying N-trees (stratified k-fold CV)"
   ]
  },
  {
   "cell_type": "code",
   "execution_count": 670,
   "metadata": {},
   "outputs": [],
   "source": [
    "precision = []\n",
    "recall = []\n",
    "f1 = []\n",
    "\n",
    "trees = [50,100,200,300, 400, 500]\n",
    "for i in trees:\n",
    "    brf = BalancedRandomForestClassifier(n_estimators=i, random_state=42, max_depth=2)\n",
    "    brf_pred = cross_val_predict(brf, x1, y1, cv=sk_fold, n_jobs=3, pre_dispatch=6)\n",
    "    f1_s = f1_score(y1, brf_pred, pos_label=\"YES\")\n",
    "    recall_s = recall_score(y1, brf_pred, pos_label=\"YES\")\n",
    "    precision_s = precision_score(y1, brf_pred, pos_label=\"YES\")\n",
    "    f1.append(f1_s)\n",
    "    recall.append(recall_s)\n",
    "    precision.append(precision_s)"
   ]
  },
  {
   "cell_type": "code",
   "execution_count": 671,
   "metadata": {},
   "outputs": [],
   "source": [
    "data = {'Precision':precision, 'Recall':recall, \"F1\":f1}"
   ]
  },
  {
   "cell_type": "code",
   "execution_count": 672,
   "metadata": {},
   "outputs": [
    {
     "data": {
      "text/html": [
       "<div>\n",
       "<style scoped>\n",
       "    .dataframe tbody tr th:only-of-type {\n",
       "        vertical-align: middle;\n",
       "    }\n",
       "\n",
       "    .dataframe tbody tr th {\n",
       "        vertical-align: top;\n",
       "    }\n",
       "\n",
       "    .dataframe thead th {\n",
       "        text-align: right;\n",
       "    }\n",
       "</style>\n",
       "<table border=\"1\" class=\"dataframe\">\n",
       "  <thead>\n",
       "    <tr style=\"text-align: right;\">\n",
       "      <th></th>\n",
       "      <th>Precision</th>\n",
       "      <th>Recall</th>\n",
       "      <th>F1</th>\n",
       "    </tr>\n",
       "  </thead>\n",
       "  <tbody>\n",
       "    <tr>\n",
       "      <td>50</td>\n",
       "      <td>0.062305</td>\n",
       "      <td>0.806196</td>\n",
       "      <td>0.115670</td>\n",
       "    </tr>\n",
       "    <tr>\n",
       "      <td>100</td>\n",
       "      <td>0.062524</td>\n",
       "      <td>0.808462</td>\n",
       "      <td>0.116071</td>\n",
       "    </tr>\n",
       "    <tr>\n",
       "      <td>200</td>\n",
       "      <td>0.062467</td>\n",
       "      <td>0.808462</td>\n",
       "      <td>0.115973</td>\n",
       "    </tr>\n",
       "    <tr>\n",
       "      <td>300</td>\n",
       "      <td>0.062504</td>\n",
       "      <td>0.808462</td>\n",
       "      <td>0.116036</td>\n",
       "    </tr>\n",
       "    <tr>\n",
       "      <td>400</td>\n",
       "      <td>0.062496</td>\n",
       "      <td>0.808462</td>\n",
       "      <td>0.116024</td>\n",
       "    </tr>\n",
       "    <tr>\n",
       "      <td>500</td>\n",
       "      <td>0.062485</td>\n",
       "      <td>0.808085</td>\n",
       "      <td>0.116001</td>\n",
       "    </tr>\n",
       "  </tbody>\n",
       "</table>\n",
       "</div>"
      ],
      "text/plain": [
       "     Precision    Recall        F1\n",
       "50    0.062305  0.806196  0.115670\n",
       "100   0.062524  0.808462  0.116071\n",
       "200   0.062467  0.808462  0.115973\n",
       "300   0.062504  0.808462  0.116036\n",
       "400   0.062496  0.808462  0.116024\n",
       "500   0.062485  0.808085  0.116001"
      ]
     },
     "execution_count": 672,
     "metadata": {},
     "output_type": "execute_result"
    }
   ],
   "source": [
    "brf_table = pd.DataFrame(data)\n",
    "brf_table.index = ['50', '100', '200', '300','400', '500']\n",
    "brf_table"
   ]
  },
  {
   "cell_type": "code",
   "execution_count": 673,
   "metadata": {
    "scrolled": true
   },
   "outputs": [
    {
     "name": "stdout",
     "output_type": "stream",
     "text": [
      "TN:  43903\n",
      "FN:  508\n",
      "TP:  2139\n",
      "FP:  32093\n"
     ]
    }
   ],
   "source": [
    "tn, fp, fn, tp = confusion_matrix(y1, brf_pred).ravel()\n",
    "print(f'TN: ',tn)\n",
    "print(f'FN: ',fn)\n",
    "print(f'TP: ',tp)\n",
    "print(f'FP: ',fp)"
   ]
  },
  {
   "cell_type": "markdown",
   "metadata": {},
   "source": [
    "#### ROC AUC"
   ]
  },
  {
   "cell_type": "markdown",
   "metadata": {},
   "source": [
    "- AUC ROC = 1 implies the model can perfectly differentiate between the minority and majority classes.\n",
    "- AUC ROC = 0.5 essentially means the model is equivalent to a random guess"
   ]
  },
  {
   "cell_type": "code",
   "execution_count": 665,
   "metadata": {},
   "outputs": [],
   "source": [
    "roc_y1 = np.where(y1 ==\"YES\", True, False)\n",
    "roc_pred = np.where(brf_pred ==\"YES\", True, False)\n",
    "b_roc_auc = roc_auc_score(roc_y1, roc_pred)"
   ]
  },
  {
   "cell_type": "code",
   "execution_count": 666,
   "metadata": {
    "scrolled": true
   },
   "outputs": [
    {
     "data": {
      "text/plain": [
       "0.7147862856433502"
      ]
     },
     "execution_count": 666,
     "metadata": {},
     "output_type": "execute_result"
    }
   ],
   "source": [
    "b_roc_auc"
   ]
  },
  {
   "cell_type": "markdown",
   "metadata": {},
   "source": [
    "## 2. Weighted Random Forest Classifier with k-fold cross validation"
   ]
  },
  {
   "cell_type": "markdown",
   "metadata": {},
   "source": [
    "- Place a heavier penalty on misclassifying the minority class (stable transcripts), using class_weight\n",
    "- Ex: {\"NO\":1, \"YES\":50} = every sample from class \"YES\" would count as 50 samples from class \"NO\", therefore giving more \"importance\" to your elements from class \"YES\" (as you have less of those samples surely)"
   ]
  },
  {
   "cell_type": "code",
   "execution_count": 1044,
   "metadata": {},
   "outputs": [],
   "source": [
    "wrf = RandomForestClassifier(n_estimators=50, random_state=42, class_weight=\"balanced\")\n",
    "wrf_pred = cross_val_predict(wrf, x1, y1, cv=k_fold, n_jobs=3, pre_dispatch=6)"
   ]
  },
  {
   "cell_type": "markdown",
   "metadata": {},
   "source": [
    "### Obtain confusion matrix for predicted values"
   ]
  },
  {
   "cell_type": "code",
   "execution_count": 1045,
   "metadata": {},
   "outputs": [],
   "source": [
    "accuracy = accuracy_score(y1, wrf_pred)\n",
    "labels = np.unique(y1)\n",
    "conf_wrf = confusion_matrix(y1, wrf_pred, labels=labels) #extract confusion matrix"
   ]
  },
  {
   "cell_type": "code",
   "execution_count": 1046,
   "metadata": {},
   "outputs": [
    {
     "name": "stdout",
     "output_type": "stream",
     "text": [
      "93.79982960975548\n"
     ]
    }
   ],
   "source": [
    "print(accuracy * 100)"
   ]
  },
  {
   "cell_type": "code",
   "execution_count": 1047,
   "metadata": {},
   "outputs": [
    {
     "data": {
      "text/html": [
       "<div>\n",
       "<style scoped>\n",
       "    .dataframe tbody tr th:only-of-type {\n",
       "        vertical-align: middle;\n",
       "    }\n",
       "\n",
       "    .dataframe tbody tr th {\n",
       "        vertical-align: top;\n",
       "    }\n",
       "\n",
       "    .dataframe thead th {\n",
       "        text-align: right;\n",
       "    }\n",
       "</style>\n",
       "<table border=\"1\" class=\"dataframe\">\n",
       "  <thead>\n",
       "    <tr style=\"text-align: right;\">\n",
       "      <th></th>\n",
       "      <th>NO</th>\n",
       "      <th>YES</th>\n",
       "    </tr>\n",
       "  </thead>\n",
       "  <tbody>\n",
       "    <tr>\n",
       "      <td>NO</td>\n",
       "      <td>73595</td>\n",
       "      <td>2401</td>\n",
       "    </tr>\n",
       "    <tr>\n",
       "      <td>YES</td>\n",
       "      <td>2475</td>\n",
       "      <td>172</td>\n",
       "    </tr>\n",
       "  </tbody>\n",
       "</table>\n",
       "</div>"
      ],
      "text/plain": [
       "        NO   YES\n",
       "NO   73595  2401\n",
       "YES   2475   172"
      ]
     },
     "execution_count": 1047,
     "metadata": {},
     "output_type": "execute_result"
    }
   ],
   "source": [
    "pd.DataFrame(conf_wrf, index=labels, columns=labels)"
   ]
  },
  {
   "cell_type": "code",
   "execution_count": 1048,
   "metadata": {},
   "outputs": [
    {
     "name": "stdout",
     "output_type": "stream",
     "text": [
      "0.06497922176048357\n",
      "0.06684803731053245\n"
     ]
    }
   ],
   "source": [
    "print(recall_score(y1, wrf_pred, pos_label=\"YES\"))\n",
    "print(precision_score(y1, wrf_pred, pos_label=\"YES\"))"
   ]
  },
  {
   "cell_type": "code",
   "execution_count": 356,
   "metadata": {},
   "outputs": [
    {
     "ename": "NameError",
     "evalue": "name 'roc_y1' is not defined",
     "output_type": "error",
     "traceback": [
      "\u001b[0;31m---------------------------------------------------------------------------\u001b[0m",
      "\u001b[0;31mNameError\u001b[0m                                 Traceback (most recent call last)",
      "\u001b[0;32m<ipython-input-356-44b07ae8b1ca>\u001b[0m in \u001b[0;36m<module>\u001b[0;34m\u001b[0m\n\u001b[1;32m      1\u001b[0m \u001b[0;31m#### ROC AUC\u001b[0m\u001b[0;34m\u001b[0m\u001b[0;34m\u001b[0m\u001b[0;34m\u001b[0m\u001b[0m\n\u001b[1;32m      2\u001b[0m \u001b[0mroc_pred2\u001b[0m \u001b[0;34m=\u001b[0m \u001b[0mnp\u001b[0m\u001b[0;34m.\u001b[0m\u001b[0mwhere\u001b[0m\u001b[0;34m(\u001b[0m\u001b[0mwrf_pred\u001b[0m \u001b[0;34m==\u001b[0m\u001b[0;34m\"YES\"\u001b[0m\u001b[0;34m,\u001b[0m \u001b[0;32mTrue\u001b[0m\u001b[0;34m,\u001b[0m \u001b[0;32mFalse\u001b[0m\u001b[0;34m)\u001b[0m\u001b[0;34m\u001b[0m\u001b[0;34m\u001b[0m\u001b[0m\n\u001b[0;32m----> 3\u001b[0;31m \u001b[0mb_roc_auc\u001b[0m \u001b[0;34m=\u001b[0m \u001b[0mroc_auc_score\u001b[0m\u001b[0;34m(\u001b[0m\u001b[0mroc_y1\u001b[0m\u001b[0;34m,\u001b[0m \u001b[0mroc_pred2\u001b[0m\u001b[0;34m)\u001b[0m\u001b[0;34m\u001b[0m\u001b[0;34m\u001b[0m\u001b[0m\n\u001b[0m",
      "\u001b[0;31mNameError\u001b[0m: name 'roc_y1' is not defined"
     ]
    }
   ],
   "source": [
    "#### ROC AUC\n",
    "roc_pred2 = np.where(wrf_pred ==\"YES\", True, False)\n",
    "b_roc_auc = roc_auc_score(roc_y1, roc_pred2)"
   ]
  },
  {
   "cell_type": "code",
   "execution_count": 659,
   "metadata": {},
   "outputs": [
    {
     "data": {
      "text/plain": [
       "0.7042435960909986"
      ]
     },
     "execution_count": 659,
     "metadata": {},
     "output_type": "execute_result"
    }
   ],
   "source": [
    "b_roc_auc"
   ]
  },
  {
   "cell_type": "markdown",
   "metadata": {},
   "source": [
    "## 3. SMOTE with k-fold cross validation"
   ]
  },
  {
   "cell_type": "markdown",
   "metadata": {},
   "source": [
    "- Specialized over-sampling of minority class (\"YES\")"
   ]
  },
  {
   "cell_type": "code",
   "execution_count": 255,
   "metadata": {},
   "outputs": [
    {
     "name": "stdout",
     "output_type": "stream",
     "text": [
      "For fold 1:\n",
      "Accuracy: 0.7207514944491887\n",
      "f-score: 0.06380368098159508\n",
      "recall-score: 0.624\n",
      "For fold 2:\n",
      "Accuracy: 0.7339270464804196\n",
      "f-score: 0.060318828091339934\n",
      "recall-score: 0.4666666666666667\n",
      "For fold 3:\n",
      "Accuracy: 0.7675979016713431\n",
      "f-score: 0.061113849186791525\n",
      "recall-score: 0.4397163120567376\n",
      "For fold 4:\n",
      "Accuracy: 0.7907515861395803\n",
      "f-score: 0.08825093035619351\n",
      "recall-score: 0.5220125786163522\n",
      "For fold 5:\n",
      "Accuracy: 0.740971205466081\n",
      "f-score: 0.04326273095989184\n",
      "recall-score: 0.5274725274725275\n",
      "For fold 6:\n",
      "Accuracy: 0.7941678867740362\n",
      "f-score: 0.052779337450870295\n",
      "recall-score: 0.373015873015873\n",
      "For fold 7:\n",
      "Accuracy: 0.7875793069790141\n",
      "f-score: 0.07442849548112705\n",
      "recall-score: 0.4430379746835443\n",
      "For fold 8:\n",
      "Accuracy: 0.7961200585651538\n",
      "f-score: 0.06386554621848739\n",
      "recall-score: 0.38\n",
      "For fold 9:\n",
      "Accuracy: 0.7508540751586139\n",
      "f-score: 0.06587374199451053\n",
      "recall-score: 0.4864864864864865\n",
      "For fold 10:\n",
      "Accuracy: 0.7817227916056613\n",
      "f-score: 0.07353702744691869\n",
      "recall-score: 0.4152046783625731\n"
     ]
    }
   ],
   "source": [
    "kf = KFold(n_splits=10)\n",
    "\n",
    "for fold, (train_index, test_index) in enumerate(kf.split(x1), 1):\n",
    "    X_train = x1[train_index]\n",
    "    y_train = y1[train_index]  # Based on your code, you might need a ravel call here, but I would look into how you're generating your y\n",
    "    X_test = x1[test_index]\n",
    "    y_test = y1[test_index]  # See comment on ravel and  y_train\n",
    "    sm = SMOTE()\n",
    "    X_train_oversampled, y_train_oversampled = sm.fit_sample(X_train, y_train)\n",
    "    model = RandomForestClassifier(n_estimators=100)  # Choose a model here\n",
    "    model.fit(X_train_oversampled, y_train_oversampled )  \n",
    "    y_pred = model.predict(X_test)\n",
    "    print(f'For fold {fold}:')\n",
    "    print(f'Accuracy: {model.score(X_test, y_test)}')\n",
    "    print(f'f-score: {f1_score(y_test, y_pred, pos_label=\"YES\")}')\n",
    "    print(f'recall-score: {recall_score(y_test, model.predict(X_test), pos_label=\"YES\")}')"
   ]
  },
  {
   "cell_type": "code",
   "execution_count": 698,
   "metadata": {},
   "outputs": [],
   "source": [
    "kf_2 = KFold(n_splits=5, shuffle=True)\n",
    "sk_fold2 = StratifiedKFold(n_splits=5, random_state=42, shuffle=True)\n",
    "imba_pipeline = make_pipeline(SMOTE(random_state=42), \n",
    "                              RandomForestClassifier(n_estimators=100, random_state=13))"
   ]
  },
  {
   "cell_type": "code",
   "execution_count": 515,
   "metadata": {},
   "outputs": [],
   "source": [
    "smote_score = cross_val_score(imba_pipeline, x1, y1, cv=kf_2)"
   ]
  },
  {
   "cell_type": "code",
   "execution_count": 516,
   "metadata": {},
   "outputs": [
    {
     "name": "stdout",
     "output_type": "stream",
     "text": [
      "Accuracy: 68.35%\n"
     ]
    }
   ],
   "source": [
    "print(\"Accuracy: %.2f%%\" % (smote_score.mean()*100.0))"
   ]
  },
  {
   "cell_type": "code",
   "execution_count": 807,
   "metadata": {},
   "outputs": [],
   "source": [
    "smote_score_pred = cross_val_predict(imba_pipeline, x1, y1, cv=sk_fold2, n_jobs=3, pre_dispatch=6)"
   ]
  },
  {
   "cell_type": "code",
   "execution_count": 808,
   "metadata": {},
   "outputs": [
    {
     "data": {
      "text/html": [
       "<div>\n",
       "<style scoped>\n",
       "    .dataframe tbody tr th:only-of-type {\n",
       "        vertical-align: middle;\n",
       "    }\n",
       "\n",
       "    .dataframe tbody tr th {\n",
       "        vertical-align: top;\n",
       "    }\n",
       "\n",
       "    .dataframe thead th {\n",
       "        text-align: right;\n",
       "    }\n",
       "</style>\n",
       "<table border=\"1\" class=\"dataframe\">\n",
       "  <thead>\n",
       "    <tr style=\"text-align: right;\">\n",
       "      <th></th>\n",
       "      <th>NO</th>\n",
       "      <th>YES</th>\n",
       "    </tr>\n",
       "  </thead>\n",
       "  <tbody>\n",
       "    <tr>\n",
       "      <td>NO</td>\n",
       "      <td>2823</td>\n",
       "      <td>355</td>\n",
       "    </tr>\n",
       "    <tr>\n",
       "      <td>YES</td>\n",
       "      <td>304</td>\n",
       "      <td>2343</td>\n",
       "    </tr>\n",
       "  </tbody>\n",
       "</table>\n",
       "</div>"
      ],
      "text/plain": [
       "       NO   YES\n",
       "NO   2823   355\n",
       "YES   304  2343"
      ]
     },
     "execution_count": 808,
     "metadata": {},
     "output_type": "execute_result"
    }
   ],
   "source": [
    "accuracy = accuracy_score(y1, smote_score_pred)\n",
    "labels = np.unique(y1)\n",
    "smote_mat = confusion_matrix(y1, smote_score_pred, labels=labels)\n",
    "pd.DataFrame(smote_mat, index=labels, columns=labels)"
   ]
  },
  {
   "cell_type": "code",
   "execution_count": 809,
   "metadata": {},
   "outputs": [
    {
     "name": "stdout",
     "output_type": "stream",
     "text": [
      "0.8851530034000755\n",
      "0.868421052631579\n"
     ]
    }
   ],
   "source": [
    "print(recall_score(y1, smote_score_pred, pos_label=\"YES\"))\n",
    "print(precision_score(y1, smote_score_pred, pos_label=\"YES\"))"
   ]
  },
  {
   "cell_type": "markdown",
   "metadata": {},
   "source": [
    "#### Vary Max_Depth"
   ]
  },
  {
   "cell_type": "code",
   "execution_count": 702,
   "metadata": {},
   "outputs": [
    {
     "data": {
      "image/png": "[encoded data removed]",
      "text/plain": [
       "<Figure size 432x288 with 1 Axes>"
      ]
     },
     "metadata": {
      "needs_background": "light"
     },
     "output_type": "display_data"
    }
   ],
   "source": [
    "precision = dict()\n",
    "recall = dict()\n",
    "\n",
    "p = []\n",
    "r = []\n",
    "f = []\n",
    "kf_2 = KFold(n_splits=5, shuffle=False)\n",
    "\n",
    "for i in range(2,9):\n",
    "    imba_pipeline = make_pipeline(SMOTE(random_state=42), \n",
    "                              RandomForestClassifier(n_estimators=50, random_state=13, max_depth=i))\n",
    "    smote_score_pred = cross_val_predict(imba_pipeline, x1, y1, cv=kf_2, n_jobs=3, pre_dispatch=6)\n",
    "    y2 = np.where(y1 ==\"YES\", True, False)\n",
    "    smote_score_pred2 = np.where(smote_score_pred ==\"YES\", True, False)\n",
    "    \n",
    "    f1_s = f1_score(y1, smote_score_pred, pos_label=\"YES\")\n",
    "    recall_s = recall_score(y1, smote_score_pred, pos_label=\"YES\")\n",
    "    precision_s = precision_score(y1, smote_score_pred, pos_label=\"YES\")\n",
    "    f.append(f1_s)\n",
    "    r.append(recall_s)\n",
    "    p.append(precision_s)\n",
    "    \n",
    "    precision[i], recall[i], _ = precision_recall_curve(y2, smote_score_pred2)\n",
    "    plt.plot(recall[i], precision[i], lw=2, label='depth {}'.format(i))\n",
    "\n",
    "plt.xlabel(\"recall\")\n",
    "plt.ylabel(\"precision\")\n",
    "plt.legend(loc=\"best\")\n",
    "plt.title(\"precision vs. recall curve\")\n",
    "plt.show()"
   ]
  },
  {
   "cell_type": "code",
   "execution_count": 703,
   "metadata": {},
   "outputs": [],
   "source": [
    "data = {'Precision':p, 'Recall':r, \"F1\":f}"
   ]
  },
  {
   "cell_type": "code",
   "execution_count": 704,
   "metadata": {},
   "outputs": [
    {
     "data": {
      "text/html": [
       "<div>\n",
       "<style scoped>\n",
       "    .dataframe tbody tr th:only-of-type {\n",
       "        vertical-align: middle;\n",
       "    }\n",
       "\n",
       "    .dataframe tbody tr th {\n",
       "        vertical-align: top;\n",
       "    }\n",
       "\n",
       "    .dataframe thead th {\n",
       "        text-align: right;\n",
       "    }\n",
       "</style>\n",
       "<table border=\"1\" class=\"dataframe\">\n",
       "  <thead>\n",
       "    <tr style=\"text-align: right;\">\n",
       "      <th></th>\n",
       "      <th>Precision</th>\n",
       "      <th>Recall</th>\n",
       "      <th>F1</th>\n",
       "    </tr>\n",
       "  </thead>\n",
       "  <tbody>\n",
       "    <tr>\n",
       "      <td>2</td>\n",
       "      <td>0.062329</td>\n",
       "      <td>0.809596</td>\n",
       "      <td>0.115747</td>\n",
       "    </tr>\n",
       "    <tr>\n",
       "      <td>3</td>\n",
       "      <td>0.062304</td>\n",
       "      <td>0.801662</td>\n",
       "      <td>0.115621</td>\n",
       "    </tr>\n",
       "    <tr>\n",
       "      <td>4</td>\n",
       "      <td>0.062246</td>\n",
       "      <td>0.794107</td>\n",
       "      <td>0.115444</td>\n",
       "    </tr>\n",
       "    <tr>\n",
       "      <td>5</td>\n",
       "      <td>0.062602</td>\n",
       "      <td>0.784662</td>\n",
       "      <td>0.115953</td>\n",
       "    </tr>\n",
       "    <tr>\n",
       "      <td>6</td>\n",
       "      <td>0.062293</td>\n",
       "      <td>0.788440</td>\n",
       "      <td>0.115463</td>\n",
       "    </tr>\n",
       "    <tr>\n",
       "      <td>7</td>\n",
       "      <td>0.063017</td>\n",
       "      <td>0.774839</td>\n",
       "      <td>0.116554</td>\n",
       "    </tr>\n",
       "    <tr>\n",
       "      <td>8</td>\n",
       "      <td>0.062758</td>\n",
       "      <td>0.756706</td>\n",
       "      <td>0.115904</td>\n",
       "    </tr>\n",
       "  </tbody>\n",
       "</table>\n",
       "</div>"
      ],
      "text/plain": [
       "   Precision    Recall        F1\n",
       "2   0.062329  0.809596  0.115747\n",
       "3   0.062304  0.801662  0.115621\n",
       "4   0.062246  0.794107  0.115444\n",
       "5   0.062602  0.784662  0.115953\n",
       "6   0.062293  0.788440  0.115463\n",
       "7   0.063017  0.774839  0.116554\n",
       "8   0.062758  0.756706  0.115904"
      ]
     },
     "execution_count": 704,
     "metadata": {},
     "output_type": "execute_result"
    }
   ],
   "source": [
    "smote_table = pd.DataFrame(data)\n",
    "smote_table.index = ['2', '3', '4', '5', '6','7','8']\n",
    "smote_table"
   ]
  },
  {
   "cell_type": "markdown",
   "metadata": {},
   "source": [
    "#### ROC AUC"
   ]
  },
  {
   "cell_type": "code",
   "execution_count": 409,
   "metadata": {},
   "outputs": [],
   "source": [
    "roc_y1 = np.where(y1 ==\"YES\", True, False)\n",
    "roc_pred = np.where(smote_score_pred ==\"YES\", True, False)\n",
    "s_roc_auc = roc_auc_score(roc_y1, roc_pred)"
   ]
  },
  {
   "cell_type": "code",
   "execution_count": 410,
   "metadata": {},
   "outputs": [
    {
     "data": {
      "text/plain": [
       "0.7142469657701834"
      ]
     },
     "execution_count": 410,
     "metadata": {},
     "output_type": "execute_result"
    }
   ],
   "source": [
    "s_roc_auc"
   ]
  },
  {
   "cell_type": "markdown",
   "metadata": {},
   "source": [
    "#### SMOTEBoost"
   ]
  },
  {
   "cell_type": "code",
   "execution_count": null,
   "metadata": {},
   "outputs": [],
   "source": []
  },
  {
   "cell_type": "markdown",
   "metadata": {},
   "source": [
    "## 4. Gradient Boosting with k-fold cross validation"
   ]
  },
  {
   "cell_type": "markdown",
   "metadata": {},
   "source": [
    "#### Compute sample weights"
   ]
  },
  {
   "cell_type": "code",
   "execution_count": 174,
   "metadata": {},
   "outputs": [],
   "source": [
    "s_weight = compute_sample_weight(class_weight='balanced', y=y1)"
   ]
  },
  {
   "cell_type": "markdown",
   "metadata": {},
   "source": [
    "#### Run model"
   ]
  },
  {
   "cell_type": "code",
   "execution_count": 729,
   "metadata": {},
   "outputs": [],
   "source": [
    "grf = GradientBoostingClassifier(random_state=42, n_estimators=100, learning_rate=0.05)\n",
    "sk_fold = StratifiedKFold(n_splits=10, random_state=42, shuffle=True) #stratified better for unbalanced datasets\n",
    "k_fold = KFold(n_splits=10, random_state=42, shuffle=True) "
   ]
  },
  {
   "cell_type": "code",
   "execution_count": 255,
   "metadata": {},
   "outputs": [],
   "source": [
    "my_model = grf.fit(x1, y1, sample_weight = s_weight)"
   ]
  },
  {
   "cell_type": "code",
   "execution_count": 730,
   "metadata": {},
   "outputs": [],
   "source": [
    "grf_pred = cross_val_predict(grf, x1, y1, cv=k_fold, n_jobs=3, pre_dispatch=6)"
   ]
  },
  {
   "cell_type": "code",
   "execution_count": 731,
   "metadata": {},
   "outputs": [
    {
     "data": {
      "text/html": [
       "<div>\n",
       "<style scoped>\n",
       "    .dataframe tbody tr th:only-of-type {\n",
       "        vertical-align: middle;\n",
       "    }\n",
       "\n",
       "    .dataframe tbody tr th {\n",
       "        vertical-align: top;\n",
       "    }\n",
       "\n",
       "    .dataframe thead th {\n",
       "        text-align: right;\n",
       "    }\n",
       "</style>\n",
       "<table border=\"1\" class=\"dataframe\">\n",
       "  <thead>\n",
       "    <tr style=\"text-align: right;\">\n",
       "      <th></th>\n",
       "      <th>NO</th>\n",
       "      <th>YES</th>\n",
       "    </tr>\n",
       "  </thead>\n",
       "  <tbody>\n",
       "    <tr>\n",
       "      <td>NO</td>\n",
       "      <td>75989</td>\n",
       "      <td>7</td>\n",
       "    </tr>\n",
       "    <tr>\n",
       "      <td>YES</td>\n",
       "      <td>2647</td>\n",
       "      <td>0</td>\n",
       "    </tr>\n",
       "  </tbody>\n",
       "</table>\n",
       "</div>"
      ],
      "text/plain": [
       "        NO  YES\n",
       "NO   75989    7\n",
       "YES   2647    0"
      ]
     },
     "execution_count": 731,
     "metadata": {},
     "output_type": "execute_result"
    }
   ],
   "source": [
    "labels = np.unique(y1)\n",
    "grf_mat = confusion_matrix(y1, grf_pred, labels=labels)\n",
    "pd.DataFrame(grf_mat, index=labels, columns=labels)"
   ]
  },
  {
   "cell_type": "code",
   "execution_count": 725,
   "metadata": {},
   "outputs": [
    {
     "name": "stdout",
     "output_type": "stream",
     "text": [
      "0.012844729882886286\n",
      "0.1033434650455927\n"
     ]
    }
   ],
   "source": [
    "print(recall_score(y1, grf_pred, pos_label=\"YES\"))\n",
    "print(precision_score(y1, grf_pred, pos_label=\"YES\"))"
   ]
  },
  {
   "cell_type": "markdown",
   "metadata": {},
   "source": [
    "## 5. Logistic Regression with k-fold cross validation"
   ]
  },
  {
   "cell_type": "markdown",
   "metadata": {},
   "source": [
    "#### Use OneHotEncoder to convert categorical data to numerical"
   ]
  },
  {
   "cell_type": "code",
   "execution_count": 436,
   "metadata": {},
   "outputs": [],
   "source": [
    "label_encoder = LabelEncoder()\n",
    "onehotencoder = OneHotEncoder()\n",
    "y2= label_encoder.fit_transform(transcript_stability['stability']) \n",
    "y3 = onehotencoder.fit_transform(transcript_stability.stability.values.reshape(-1,1)).toarray()"
   ]
  },
  {
   "cell_type": "code",
   "execution_count": 433,
   "metadata": {},
   "outputs": [],
   "source": [
    "logisticRegr = LogisticRegression(random_state=42)"
   ]
  },
  {
   "cell_type": "code",
   "execution_count": 439,
   "metadata": {},
   "outputs": [],
   "source": [
    "lr_pred = cross_val_predict(logisticRegr, x1, y2, cv=10, n_jobs=3, pre_dispatch=6)"
   ]
  },
  {
   "cell_type": "code",
   "execution_count": 435,
   "metadata": {},
   "outputs": [
    {
     "data": {
      "text/html": [
       "<div>\n",
       "<style scoped>\n",
       "    .dataframe tbody tr th:only-of-type {\n",
       "        vertical-align: middle;\n",
       "    }\n",
       "\n",
       "    .dataframe tbody tr th {\n",
       "        vertical-align: top;\n",
       "    }\n",
       "\n",
       "    .dataframe thead th {\n",
       "        text-align: right;\n",
       "    }\n",
       "</style>\n",
       "<table border=\"1\" class=\"dataframe\">\n",
       "  <thead>\n",
       "    <tr style=\"text-align: right;\">\n",
       "      <th></th>\n",
       "      <th>0</th>\n",
       "      <th>1</th>\n",
       "    </tr>\n",
       "  </thead>\n",
       "  <tbody>\n",
       "    <tr>\n",
       "      <td>0</td>\n",
       "      <td>80544</td>\n",
       "      <td>0</td>\n",
       "    </tr>\n",
       "    <tr>\n",
       "      <td>1</td>\n",
       "      <td>1419</td>\n",
       "      <td>0</td>\n",
       "    </tr>\n",
       "  </tbody>\n",
       "</table>\n",
       "</div>"
      ],
      "text/plain": [
       "       0  1\n",
       "0  80544  0\n",
       "1   1419  0"
      ]
     },
     "execution_count": 435,
     "metadata": {},
     "output_type": "execute_result"
    }
   ],
   "source": [
    "labels = np.unique(y3)\n",
    "lr_mat = confusion_matrix(y3, lr_pred, labels=labels)\n",
    "pd.DataFrame(lr_mat, index=labels, columns=labels)"
   ]
  },
  {
   "cell_type": "markdown",
   "metadata": {},
   "source": [
    "## 6. SVC"
   ]
  },
  {
   "cell_type": "code",
   "execution_count": 1115,
   "metadata": {},
   "outputs": [],
   "source": [
    "svc_m = SVC(C=2, random_state=42,kernel='linear')"
   ]
  },
  {
   "cell_type": "code",
   "execution_count": 1116,
   "metadata": {},
   "outputs": [],
   "source": [
    "svc_pred = cross_val_predict(svc_m, x1, y1, cv=5, n_jobs=3, pre_dispatch=6)"
   ]
  },
  {
   "cell_type": "code",
   "execution_count": 1117,
   "metadata": {},
   "outputs": [
    {
     "data": {
      "text/html": [
       "<div>\n",
       "<style scoped>\n",
       "    .dataframe tbody tr th:only-of-type {\n",
       "        vertical-align: middle;\n",
       "    }\n",
       "\n",
       "    .dataframe tbody tr th {\n",
       "        vertical-align: top;\n",
       "    }\n",
       "\n",
       "    .dataframe thead th {\n",
       "        text-align: right;\n",
       "    }\n",
       "</style>\n",
       "<table border=\"1\" class=\"dataframe\">\n",
       "  <thead>\n",
       "    <tr style=\"text-align: right;\">\n",
       "      <th></th>\n",
       "      <th>NO</th>\n",
       "      <th>YES</th>\n",
       "    </tr>\n",
       "  </thead>\n",
       "  <tbody>\n",
       "    <tr>\n",
       "      <td>NO</td>\n",
       "      <td>2475</td>\n",
       "      <td>268</td>\n",
       "    </tr>\n",
       "    <tr>\n",
       "      <td>YES</td>\n",
       "      <td>296</td>\n",
       "      <td>2351</td>\n",
       "    </tr>\n",
       "  </tbody>\n",
       "</table>\n",
       "</div>"
      ],
      "text/plain": [
       "       NO   YES\n",
       "NO   2475   268\n",
       "YES   296  2351"
      ]
     },
     "execution_count": 1117,
     "metadata": {},
     "output_type": "execute_result"
    }
   ],
   "source": [
    "labels = np.unique(y1) #C=1\n",
    "svc_mat = confusion_matrix(y1, svc_pred, labels=labels)\n",
    "pd.DataFrame(svc_mat, index=labels, columns=labels)"
   ]
  },
  {
   "cell_type": "code",
   "execution_count": 1118,
   "metadata": {},
   "outputs": [
    {
     "name": "stdout",
     "output_type": "stream",
     "text": [
      "0.8881752927842841\n",
      "0.8976708667430316\n"
     ]
    }
   ],
   "source": [
    "print(recall_score(y1, svc_pred, pos_label=\"YES\"))\n",
    "print(precision_score(y1, svc_pred, pos_label=\"YES\"))"
   ]
  },
  {
   "cell_type": "markdown",
   "metadata": {},
   "source": [
    "## 7. RUS Boosting"
   ]
  },
  {
   "cell_type": "code",
   "execution_count": 579,
   "metadata": {},
   "outputs": [],
   "source": [
    "rus = RUSBoostClassifier(n_estimators=50, random_state=42)"
   ]
  },
  {
   "cell_type": "code",
   "execution_count": 735,
   "metadata": {},
   "outputs": [],
   "source": [
    "rus_pred = cross_val_predict(rus, x1, y1, cv=5, n_jobs=3, pre_dispatch=6)"
   ]
  },
  {
   "cell_type": "code",
   "execution_count": 736,
   "metadata": {},
   "outputs": [
    {
     "data": {
      "text/html": [
       "<div>\n",
       "<style scoped>\n",
       "    .dataframe tbody tr th:only-of-type {\n",
       "        vertical-align: middle;\n",
       "    }\n",
       "\n",
       "    .dataframe tbody tr th {\n",
       "        vertical-align: top;\n",
       "    }\n",
       "\n",
       "    .dataframe thead th {\n",
       "        text-align: right;\n",
       "    }\n",
       "</style>\n",
       "<table border=\"1\" class=\"dataframe\">\n",
       "  <thead>\n",
       "    <tr style=\"text-align: right;\">\n",
       "      <th></th>\n",
       "      <th>NO</th>\n",
       "      <th>YES</th>\n",
       "    </tr>\n",
       "  </thead>\n",
       "  <tbody>\n",
       "    <tr>\n",
       "      <td>NO</td>\n",
       "      <td>45156</td>\n",
       "      <td>30840</td>\n",
       "    </tr>\n",
       "    <tr>\n",
       "      <td>YES</td>\n",
       "      <td>576</td>\n",
       "      <td>2071</td>\n",
       "    </tr>\n",
       "  </tbody>\n",
       "</table>\n",
       "</div>"
      ],
      "text/plain": [
       "        NO    YES\n",
       "NO   45156  30840\n",
       "YES    576   2071"
      ]
     },
     "execution_count": 736,
     "metadata": {},
     "output_type": "execute_result"
    }
   ],
   "source": [
    "labels = np.unique(y1) #50\n",
    "rus_mat = confusion_matrix(y1, rus_pred, labels=labels)\n",
    "pd.DataFrame(rus_mat, index=labels, columns=labels)"
   ]
  },
  {
   "cell_type": "code",
   "execution_count": 737,
   "metadata": {},
   "outputs": [
    {
     "name": "stdout",
     "output_type": "stream",
     "text": [
      "0.7823951643369853\n",
      "0.06292728874844276\n"
     ]
    }
   ],
   "source": [
    "print(recall_score(y1, rus_pred, pos_label=\"YES\"))\n",
    "print(precision_score(y1, rus_pred, pos_label=\"YES\"))"
   ]
  },
  {
   "cell_type": "markdown",
   "metadata": {},
   "source": [
    "## 8. ADA Boosting"
   ]
  },
  {
   "cell_type": "code",
   "execution_count": 741,
   "metadata": {},
   "outputs": [],
   "source": [
    "ada = AdaBoostClassifier(n_estimators=200, random_state=42)"
   ]
  },
  {
   "cell_type": "code",
   "execution_count": 742,
   "metadata": {},
   "outputs": [],
   "source": [
    "ada_pred = cross_val_predict(ada, x1, y1, cv=5, n_jobs=3, pre_dispatch=6)"
   ]
  },
  {
   "cell_type": "code",
   "execution_count": 743,
   "metadata": {},
   "outputs": [
    {
     "data": {
      "text/html": [
       "<div>\n",
       "<style scoped>\n",
       "    .dataframe tbody tr th:only-of-type {\n",
       "        vertical-align: middle;\n",
       "    }\n",
       "\n",
       "    .dataframe tbody tr th {\n",
       "        vertical-align: top;\n",
       "    }\n",
       "\n",
       "    .dataframe thead th {\n",
       "        text-align: right;\n",
       "    }\n",
       "</style>\n",
       "<table border=\"1\" class=\"dataframe\">\n",
       "  <thead>\n",
       "    <tr style=\"text-align: right;\">\n",
       "      <th></th>\n",
       "      <th>NO</th>\n",
       "      <th>YES</th>\n",
       "    </tr>\n",
       "  </thead>\n",
       "  <tbody>\n",
       "    <tr>\n",
       "      <td>NO</td>\n",
       "      <td>75993</td>\n",
       "      <td>3</td>\n",
       "    </tr>\n",
       "    <tr>\n",
       "      <td>YES</td>\n",
       "      <td>2647</td>\n",
       "      <td>0</td>\n",
       "    </tr>\n",
       "  </tbody>\n",
       "</table>\n",
       "</div>"
      ],
      "text/plain": [
       "        NO  YES\n",
       "NO   75993    3\n",
       "YES   2647    0"
      ]
     },
     "execution_count": 743,
     "metadata": {},
     "output_type": "execute_result"
    }
   ],
   "source": [
    "labels = np.unique(y1) #200\n",
    "ada_mat = confusion_matrix(y1, ada_pred, labels=labels)\n",
    "pd.DataFrame(ada_mat, index=labels, columns=labels)"
   ]
  },
  {
   "cell_type": "code",
   "execution_count": 744,
   "metadata": {},
   "outputs": [
    {
     "name": "stdout",
     "output_type": "stream",
     "text": [
      "0.0\n",
      "0.0\n"
     ]
    }
   ],
   "source": [
    "print(recall_score(y1, ada_pred, pos_label=\"YES\"))\n",
    "print(precision_score(y1, ada_pred, pos_label=\"YES\"))"
   ]
  },
  {
   "cell_type": "markdown",
   "metadata": {},
   "source": [
    "## 9. Bagging Tree"
   ]
  },
  {
   "cell_type": "code",
   "execution_count": 1119,
   "metadata": {},
   "outputs": [],
   "source": [
    "cart = DecisionTreeClassifier()"
   ]
  },
  {
   "cell_type": "code",
   "execution_count": 1120,
   "metadata": {},
   "outputs": [],
   "source": [
    "bc = BaggingClassifier(base_estimator=cart, n_estimators=50, random_state=42)"
   ]
  },
  {
   "cell_type": "code",
   "execution_count": 1121,
   "metadata": {},
   "outputs": [],
   "source": [
    "bc_pred = cross_val_predict(bc, x1, y1, cv=k_fold, n_jobs=3, pre_dispatch=6)"
   ]
  },
  {
   "cell_type": "code",
   "execution_count": 1122,
   "metadata": {},
   "outputs": [
    {
     "data": {
      "text/html": [
       "<div>\n",
       "<style scoped>\n",
       "    .dataframe tbody tr th:only-of-type {\n",
       "        vertical-align: middle;\n",
       "    }\n",
       "\n",
       "    .dataframe tbody tr th {\n",
       "        vertical-align: top;\n",
       "    }\n",
       "\n",
       "    .dataframe thead th {\n",
       "        text-align: right;\n",
       "    }\n",
       "</style>\n",
       "<table border=\"1\" class=\"dataframe\">\n",
       "  <thead>\n",
       "    <tr style=\"text-align: right;\">\n",
       "      <th></th>\n",
       "      <th>NO</th>\n",
       "      <th>YES</th>\n",
       "    </tr>\n",
       "  </thead>\n",
       "  <tbody>\n",
       "    <tr>\n",
       "      <td>NO</td>\n",
       "      <td>2456</td>\n",
       "      <td>287</td>\n",
       "    </tr>\n",
       "    <tr>\n",
       "      <td>YES</td>\n",
       "      <td>457</td>\n",
       "      <td>2190</td>\n",
       "    </tr>\n",
       "  </tbody>\n",
       "</table>\n",
       "</div>"
      ],
      "text/plain": [
       "       NO   YES\n",
       "NO   2456   287\n",
       "YES   457  2190"
      ]
     },
     "execution_count": 1122,
     "metadata": {},
     "output_type": "execute_result"
    }
   ],
   "source": [
    "labels = np.unique(y1) #50\n",
    "bc_mat = confusion_matrix(y1, bc_pred, labels=labels)\n",
    "pd.DataFrame(bc_mat, index=labels, columns=labels)"
   ]
  },
  {
   "cell_type": "code",
   "execution_count": 1123,
   "metadata": {},
   "outputs": [
    {
     "name": "stdout",
     "output_type": "stream",
     "text": [
      "0.8273517189270873\n",
      "0.884134033104562\n"
     ]
    }
   ],
   "source": [
    "print(recall_score(y1, bc_pred, pos_label=\"YES\"))\n",
    "print(precision_score(y1, bc_pred, pos_label=\"YES\"))"
   ]
  },
  {
   "cell_type": "markdown",
   "metadata": {},
   "source": [
    "## 10. Voting Classifier (Ensemble combine models)"
   ]
  },
  {
   "cell_type": "code",
   "execution_count": 609,
   "metadata": {},
   "outputs": [],
   "source": [
    "estimators = []\n",
    "\n",
    "mod_brf = BalancedRandomForestClassifier(n_estimators=100, random_state=42, max_depth=2, criterion='gini')\n",
    "estimators.append(('balancedrf', mod_brf))\n",
    "\n",
    "mod_smote = imba_pipeline = make_pipeline(SMOTE(random_state=42), RandomForestClassifier(n_estimators=100, random_state=13))\n",
    "estimators.append(('smote', mod_smote))\n",
    "\n",
    "mod_grad = GradientBoostingClassifier(random_state=42, criterion=\"friedman_mse\", n_estimators=100, learning_rate=0.1)\n",
    "estimators.append(('gradient', mod_grad))\n",
    "\n",
    "mod_ada = AdaBoostClassifier(n_estimators=200, random_state=42)\n",
    "estimators.append(('ada', mod_ada))\n",
    "\n",
    "mod_bagging = BaggingClassifier(base_estimator=cart, n_estimators=200, random_state=42)\n",
    "estimators.append(('bagging', mod_bagging))"
   ]
  },
  {
   "cell_type": "code",
   "execution_count": 610,
   "metadata": {},
   "outputs": [],
   "source": [
    "ensemble = VotingClassifier(estimators)"
   ]
  },
  {
   "cell_type": "code",
   "execution_count": 611,
   "metadata": {},
   "outputs": [],
   "source": [
    "k_fold = KFold(n_splits=5, random_state=42, shuffle=True) "
   ]
  },
  {
   "cell_type": "code",
   "execution_count": 612,
   "metadata": {},
   "outputs": [],
   "source": [
    "results_vc = cross_val_predict(ensemble, x1, y1, cv=k_fold, n_jobs=3, pre_dispatch=6)"
   ]
  },
  {
   "cell_type": "code",
   "execution_count": 613,
   "metadata": {},
   "outputs": [
    {
     "data": {
      "text/html": [
       "<div>\n",
       "<style scoped>\n",
       "    .dataframe tbody tr th:only-of-type {\n",
       "        vertical-align: middle;\n",
       "    }\n",
       "\n",
       "    .dataframe tbody tr th {\n",
       "        vertical-align: top;\n",
       "    }\n",
       "\n",
       "    .dataframe thead th {\n",
       "        text-align: right;\n",
       "    }\n",
       "</style>\n",
       "<table border=\"1\" class=\"dataframe\">\n",
       "  <thead>\n",
       "    <tr style=\"text-align: right;\">\n",
       "      <th></th>\n",
       "      <th>NO</th>\n",
       "      <th>YES</th>\n",
       "    </tr>\n",
       "  </thead>\n",
       "  <tbody>\n",
       "    <tr>\n",
       "      <td>NO</td>\n",
       "      <td>70117</td>\n",
       "      <td>530</td>\n",
       "    </tr>\n",
       "    <tr>\n",
       "      <td>YES</td>\n",
       "      <td>832</td>\n",
       "      <td>506</td>\n",
       "    </tr>\n",
       "  </tbody>\n",
       "</table>\n",
       "</div>"
      ],
      "text/plain": [
       "        NO  YES\n",
       "NO   70117  530\n",
       "YES    832  506"
      ]
     },
     "execution_count": 613,
     "metadata": {},
     "output_type": "execute_result"
    }
   ],
   "source": [
    "labels = np.unique(y1)\n",
    "vc_mat = confusion_matrix(y1, results_vc, labels=labels)\n",
    "pd.DataFrame(vc_mat, index=labels, columns=labels)"
   ]
  },
  {
   "cell_type": "code",
   "execution_count": 614,
   "metadata": {},
   "outputs": [
    {
     "name": "stdout",
     "output_type": "stream",
     "text": [
      "0.3781763826606876\n",
      "0.48841698841698844\n"
     ]
    }
   ],
   "source": [
    "print(recall_score(y1, results_vc, pos_label=\"YES\"))\n",
    "print(precision_score(y1, results_vc, pos_label=\"YES\"))"
   ]
  },
  {
   "cell_type": "code",
   "execution_count": 1050,
   "metadata": {},
   "outputs": [],
   "source": [
    "tt = ComplementNB()"
   ]
  },
  {
   "cell_type": "code",
   "execution_count": 1052,
   "metadata": {},
   "outputs": [],
   "source": [
    "nb_pred = cross_val_predict(tt, x1, y1, cv=k_fold, n_jobs=3, pre_dispatch=6)"
   ]
  },
  {
   "cell_type": "code",
   "execution_count": 1054,
   "metadata": {},
   "outputs": [
    {
     "data": {
      "text/html": [
       "<div>\n",
       "<style scoped>\n",
       "    .dataframe tbody tr th:only-of-type {\n",
       "        vertical-align: middle;\n",
       "    }\n",
       "\n",
       "    .dataframe tbody tr th {\n",
       "        vertical-align: top;\n",
       "    }\n",
       "\n",
       "    .dataframe thead th {\n",
       "        text-align: right;\n",
       "    }\n",
       "</style>\n",
       "<table border=\"1\" class=\"dataframe\">\n",
       "  <thead>\n",
       "    <tr style=\"text-align: right;\">\n",
       "      <th></th>\n",
       "      <th>NO</th>\n",
       "      <th>YES</th>\n",
       "    </tr>\n",
       "  </thead>\n",
       "  <tbody>\n",
       "    <tr>\n",
       "      <td>NO</td>\n",
       "      <td>75996</td>\n",
       "      <td>0</td>\n",
       "    </tr>\n",
       "    <tr>\n",
       "      <td>YES</td>\n",
       "      <td>2647</td>\n",
       "      <td>0</td>\n",
       "    </tr>\n",
       "  </tbody>\n",
       "</table>\n",
       "</div>"
      ],
      "text/plain": [
       "        NO  YES\n",
       "NO   75996    0\n",
       "YES   2647    0"
      ]
     },
     "execution_count": 1054,
     "metadata": {},
     "output_type": "execute_result"
    }
   ],
   "source": [
    "labels = np.unique(y1)\n",
    "nb_mat = confusion_matrix(y1, nb_pred, labels=labels)\n",
    "pd.DataFrame(nb_mat, index=labels, columns=labels)"
   ]
  },
  {
   "cell_type": "code",
   "execution_count": null,
   "metadata": {},
   "outputs": [],
   "source": []
  }
 ],
 "metadata": {
  "kernelspec": {
   "display_name": "Python 3",
   "language": "python",
   "name": "python3"
  },
  "language_info": {
   "codemirror_mode": {
    "name": "ipython",
    "version": 3
   },
   "file_extension": ".py",
   "mimetype": "text/x-python",
   "name": "python",
   "nbconvert_exporter": "python",
   "pygments_lexer": "ipython3",
   "version": "3.7.4"
  }
 },
 "nbformat": 4,
 "nbformat_minor": 4
}
