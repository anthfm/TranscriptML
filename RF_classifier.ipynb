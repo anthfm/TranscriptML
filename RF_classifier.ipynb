{
 "cells": [
  {
   "cell_type": "code",
   "execution_count": 301,
   "metadata": {},
   "outputs": [],
   "source": [
    "import pyreadr\n",
    "import numpy as np\n",
    "import pandas as pd\n",
    "from imblearn.ensemble import BalancedRandomForestClassifier\n",
    "from sklearn.ensemble import RandomForestClassifier, GradientBoostingClassifier\n",
    "from sklearn.model_selection import cross_val_score, cross_validate, cross_val_predict,RepeatedStratifiedKFold, StratifiedKFold, KFold\n",
    "from sklearn.metrics import confusion_matrix, f1_score, accuracy_score, recall_score, precision_score, precision_recall_curve\n",
    "from sklearn.utils import class_weight, compute_class_weight\n",
    "from imblearn.over_sampling import SMOTE\n",
    "from sklearn.linear_model import LogisticRegression\n",
    "from imblearn.pipeline import Pipeline, make_pipeline\n",
    "import matplotlib.pyplot as plt"
   ]
  },
  {
   "cell_type": "markdown",
   "metadata": {},
   "source": [
    "# <u>Preprocess Data </u>"
   ]
  },
  {
   "cell_type": "markdown",
   "metadata": {},
   "source": [
    "### Import Transcript Stability Data"
   ]
  },
  {
   "cell_type": "code",
   "execution_count": 367,
   "metadata": {},
   "outputs": [],
   "source": [
    "transcript_stability = pyreadr.read_r('transcript_stability_MAD_count_norm_0.8.RData')\n",
    "transcript_stability = transcript_stability[\"transcript_stability\"] # 84107 rows\n",
    "transcript_stability = pd.DataFrame(transcript_stability)"
   ]
  },
  {
   "cell_type": "markdown",
   "metadata": {},
   "source": [
    "### Remove transcript version from id's (*.number)"
   ]
  },
  {
   "cell_type": "code",
   "execution_count": 368,
   "metadata": {},
   "outputs": [],
   "source": [
    "transcript_stability[\"transcript_id\"] = transcript_stability[\"transcript_id\"].str.split(\".\").str[0]"
   ]
  },
  {
   "cell_type": "markdown",
   "metadata": {},
   "source": [
    "### Remove Housekeeping transcripts"
   ]
  },
  {
   "cell_type": "code",
   "execution_count": 369,
   "metadata": {},
   "outputs": [],
   "source": [
    "h = pd.read_csv(\"Housekeeping_TranscriptsHuman.csv\", delimiter=\";\")\n",
    "house_genes = h[\"Ensembl\"].values\n",
    "transcript_stability = transcript_stability[~transcript_stability[\"transcript_id\"].isin(house_genes)]"
   ]
  },
  {
   "cell_type": "markdown",
   "metadata": {},
   "source": [
    "### Extract median expression & spearman stability only "
   ]
  },
  {
   "cell_type": "code",
   "execution_count": 370,
   "metadata": {},
   "outputs": [],
   "source": [
    "transcript_stability = transcript_stability.loc[:,['combined_median','stability']]"
   ]
  },
  {
   "cell_type": "markdown",
   "metadata": {},
   "source": [
    "### Show dataset inbalance"
   ]
  },
  {
   "cell_type": "code",
   "execution_count": 371,
   "metadata": {},
   "outputs": [
    {
     "name": "stdout",
     "output_type": "stream",
     "text": [
      "NO     80544\n",
      "YES     1419\n",
      "Name: stability, dtype: int64\n"
     ]
    },
    {
     "data": {
      "image/png": "[encoded data removed]",
      "text/plain": [
       "<Figure size 432x432 with 1 Axes>"
      ]
     },
     "metadata": {},
     "output_type": "display_data"
    }
   ],
   "source": [
    "plt.figure(figsize=(6,6))\n",
    "pd.Series(transcript_stability['stability']).value_counts().plot(kind ='pie', autopct='%1.2f%%')\n",
    "print(pd.Series(transcript_stability['stability']).value_counts())"
   ]
  },
  {
   "cell_type": "markdown",
   "metadata": {},
   "source": [
    "# <u>Build Random Forest classifier </u>"
   ]
  },
  {
   "cell_type": "markdown",
   "metadata": {},
   "source": [
    "## 1. Basic Random Forest Classifier with k-fold cross validation"
   ]
  },
  {
   "cell_type": "code",
   "execution_count": 372,
   "metadata": {},
   "outputs": [],
   "source": [
    "x1 = transcript_stability[\"combined_median\"].values.reshape(-1, 1) # convert into 2D array\n",
    "y1 = transcript_stability[\"stability\"].values.ravel() # convert into 1D array\n",
    "rf = RandomForestClassifier(n_estimators=200, random_state=42) #define classifier with n trees\n",
    "k_fold = KFold(n_splits=5, random_state=42, shuffle=True) "
   ]
  },
  {
   "cell_type": "code",
   "execution_count": 354,
   "metadata": {},
   "outputs": [],
   "source": [
    "rf_scores = cross_val_score(brf, x1, y1, cv=k_fold, n_jobs=2, pre_dispatch=4)"
   ]
  },
  {
   "cell_type": "code",
   "execution_count": 355,
   "metadata": {},
   "outputs": [
    {
     "name": "stdout",
     "output_type": "stream",
     "text": [
      "Accuracy: 66.43%\n"
     ]
    }
   ],
   "source": [
    "print(\"Accuracy: %.2f%%\" % (rf_scores.mean()*100.0))"
   ]
  },
  {
   "cell_type": "markdown",
   "metadata": {},
   "source": [
    "### Obtain confusion matrix for predicted values"
   ]
  },
  {
   "cell_type": "code",
   "execution_count": 356,
   "metadata": {},
   "outputs": [],
   "source": [
    "rf_pred = cross_val_predict(rf, x1, y1, cv=5, n_jobs=3, pre_dispatch=6) #5-fold CV\n",
    "labels = np.unique(y1)\n",
    "rf_conf_mat = confusion_matrix(y1, rf_pred, labels=labels)"
   ]
  },
  {
   "cell_type": "code",
   "execution_count": 357,
   "metadata": {},
   "outputs": [
    {
     "data": {
      "text/html": [
       "<div>\n",
       "<style scoped>\n",
       "    .dataframe tbody tr th:only-of-type {\n",
       "        vertical-align: middle;\n",
       "    }\n",
       "\n",
       "    .dataframe tbody tr th {\n",
       "        vertical-align: top;\n",
       "    }\n",
       "\n",
       "    .dataframe thead th {\n",
       "        text-align: right;\n",
       "    }\n",
       "</style>\n",
       "<table border=\"1\" class=\"dataframe\">\n",
       "  <thead>\n",
       "    <tr style=\"text-align: right;\">\n",
       "      <th></th>\n",
       "      <th>NO</th>\n",
       "      <th>YES</th>\n",
       "    </tr>\n",
       "  </thead>\n",
       "  <tbody>\n",
       "    <tr>\n",
       "      <td>NO</td>\n",
       "      <td>77687</td>\n",
       "      <td>1855</td>\n",
       "    </tr>\n",
       "    <tr>\n",
       "      <td>YES</td>\n",
       "      <td>2293</td>\n",
       "      <td>128</td>\n",
       "    </tr>\n",
       "  </tbody>\n",
       "</table>\n",
       "</div>"
      ],
      "text/plain": [
       "        NO   YES\n",
       "NO   77687  1855\n",
       "YES   2293   128"
      ]
     },
     "execution_count": 357,
     "metadata": {},
     "output_type": "execute_result"
    }
   ],
   "source": [
    "pd.DataFrame(rf_conf_mat, index=labels, columns=labels)"
   ]
  },
  {
   "cell_type": "markdown",
   "metadata": {},
   "source": [
    "### Plot Precision-Recall Curve"
   ]
  },
  {
   "cell_type": "markdown",
   "metadata": {},
   "source": [
    "- Precision-Recall is a useful measure of success of prediction when the classes are very imbalanced.\n",
    "\n",
    "- Precision: What proportion of positive identifications (\"YES\") was actually correct? If my model has a precision of 0.5—in other words, when it predicts a transcript is stable, it is correct 50% of the time.(No false positives = precision of 1.0).\n",
    "\n",
    "- Recall: What proportion of actual positives was identified correctly (No false negatives = recall of 1.0)? If my model has a recall of 0.11—in other words, it correctly identifies 11% of all stable transcripts.\n",
    "\n",
    "\n",
    "- Overall: A high AUC represents both high recall and high precision, where high precision relates to a low false positive rate, and high recall relates to a low false negative rate."
   ]
  },
  {
   "cell_type": "markdown",
   "metadata": {},
   "source": [
    "#### Vary Max_Depth"
   ]
  },
  {
   "cell_type": "code",
   "execution_count": 115,
   "metadata": {
    "scrolled": false
   },
   "outputs": [
    {
     "data": {
      "image/png": "[encoded data removed]",
      "text/plain": [
       "<Figure size 432x288 with 1 Axes>"
      ]
     },
     "metadata": {
      "needs_background": "light"
     },
     "output_type": "display_data"
    }
   ],
   "source": [
    "precision = dict()\n",
    "recall = dict()\n",
    "\n",
    "for i in range(2,9):\n",
    "    rf = RandomForestClassifier(n_estimators=100, random_state=42, max_depth=i)\n",
    "    rf_pred = cross_val_predict(rf, x1, y1, cv=5, n_jobs=3, pre_dispatch=6)\n",
    "    y2 = np.where(y1 ==\"YES\", True, False)\n",
    "    rf_pred2 = np.where(rf_pred ==\"YES\", True, False)\n",
    "    precision[i], recall[i], _ = precision_recall_curve(y2, rf_pred2)\n",
    "    plt.plot(recall[i], precision[i], lw=2, label='depth {}'.format(i))\n",
    "\n",
    "plt.xlabel(\"recall\")\n",
    "plt.ylabel(\"precision\")\n",
    "plt.legend(loc=\"best\")\n",
    "plt.title(\"precision vs. recall curve\")\n",
    "plt.show()"
   ]
  },
  {
   "cell_type": "markdown",
   "metadata": {},
   "source": [
    "#### Vary n_trees with max_depth of 2 "
   ]
  },
  {
   "cell_type": "code",
   "execution_count": 117,
   "metadata": {
    "scrolled": true
   },
   "outputs": [
    {
     "data": {
      "image/png": "[encoded data removed]",
      "text/plain": [
       "<Figure size 432x288 with 1 Axes>"
      ]
     },
     "metadata": {
      "needs_background": "light"
     },
     "output_type": "display_data"
    }
   ],
   "source": [
    "precision = dict()\n",
    "recall = dict()\n",
    "trees = [100,200,300,400,500]\n",
    "for i in trees:\n",
    "    rf = RandomForestClassifier(n_estimators=i, random_state=42, max_depth=2)\n",
    "    rf_pred = cross_val_predict(rf, x1, y1, cv=5, n_jobs=3, pre_dispatch=6)\n",
    "    y2 = np.where(y1 ==\"YES\", True, False)\n",
    "    rf_pred2 = np.where(rf_pred ==\"YES\", True, False)\n",
    "    precision[i], recall[i], _ = precision_recall_curve(y2, rf_pred2)\n",
    "    plt.plot(recall[i], precision[i], lw=2, label='n_trees {}'.format(i))\n",
    "\n",
    "plt.xlabel(\"recall\")\n",
    "plt.ylabel(\"precision\")\n",
    "plt.legend(loc=\"best\")\n",
    "plt.title(\"precision vs. recall curve\")\n",
    "plt.show()"
   ]
  },
  {
   "cell_type": "markdown",
   "metadata": {},
   "source": [
    "#### Table of performance (Precision, Recall, F-score) with varying N-trees, 10-fold CV"
   ]
  },
  {
   "cell_type": "code",
   "execution_count": 15,
   "metadata": {},
   "outputs": [],
   "source": [
    "precision = []\n",
    "recall = []\n",
    "f1 = []\n",
    "\n",
    "trees = [50,100,200,300]\n",
    "for i in trees:\n",
    "    rf = RandomForestClassifier(n_estimators=i, random_state=42)\n",
    "    rf_pred = cross_val_predict(rf, x1, y1, cv=10, n_jobs=3, pre_dispatch=6)\n",
    "    f1_s = f1_score(y1, rf_pred, pos_label=\"YES\")\n",
    "    recall_s = recall_score(y1, rf_pred, pos_label=\"YES\")\n",
    "    precision_s = precision_score(y1, rf_pred, pos_label=\"YES\")\n",
    "    f1.append(f1_s)\n",
    "    recall.append(recall_s)\n",
    "    precision.append(precision_s)"
   ]
  },
  {
   "cell_type": "code",
   "execution_count": 16,
   "metadata": {},
   "outputs": [],
   "source": [
    "data = {'Precision':precision, 'Recall':recall, \"F1\":f1}"
   ]
  },
  {
   "cell_type": "code",
   "execution_count": 17,
   "metadata": {},
   "outputs": [
    {
     "data": {
      "text/html": [
       "<div>\n",
       "<style scoped>\n",
       "    .dataframe tbody tr th:only-of-type {\n",
       "        vertical-align: middle;\n",
       "    }\n",
       "\n",
       "    .dataframe tbody tr th {\n",
       "        vertical-align: top;\n",
       "    }\n",
       "\n",
       "    .dataframe thead th {\n",
       "        text-align: right;\n",
       "    }\n",
       "</style>\n",
       "<table border=\"1\" class=\"dataframe\">\n",
       "  <thead>\n",
       "    <tr style=\"text-align: right;\">\n",
       "      <th></th>\n",
       "      <th>Precision</th>\n",
       "      <th>Recall</th>\n",
       "      <th>F1</th>\n",
       "    </tr>\n",
       "  </thead>\n",
       "  <tbody>\n",
       "    <tr>\n",
       "      <td>50</td>\n",
       "      <td>0.056780</td>\n",
       "      <td>0.047216</td>\n",
       "      <td>0.051558</td>\n",
       "    </tr>\n",
       "    <tr>\n",
       "      <td>100</td>\n",
       "      <td>0.054455</td>\n",
       "      <td>0.046512</td>\n",
       "      <td>0.050171</td>\n",
       "    </tr>\n",
       "    <tr>\n",
       "      <td>200</td>\n",
       "      <td>0.054276</td>\n",
       "      <td>0.046512</td>\n",
       "      <td>0.050095</td>\n",
       "    </tr>\n",
       "    <tr>\n",
       "      <td>300</td>\n",
       "      <td>0.054276</td>\n",
       "      <td>0.046512</td>\n",
       "      <td>0.050095</td>\n",
       "    </tr>\n",
       "    <tr>\n",
       "      <td>400</td>\n",
       "      <td>0.054276</td>\n",
       "      <td>0.046512</td>\n",
       "      <td>0.050095</td>\n",
       "    </tr>\n",
       "  </tbody>\n",
       "</table>\n",
       "</div>"
      ],
      "text/plain": [
       "     Precision    Recall        F1\n",
       "50    0.056780  0.047216  0.051558\n",
       "100   0.054455  0.046512  0.050171\n",
       "200   0.054276  0.046512  0.050095\n",
       "300   0.054276  0.046512  0.050095\n",
       "400   0.054276  0.046512  0.050095"
      ]
     },
     "execution_count": 17,
     "metadata": {},
     "output_type": "execute_result"
    }
   ],
   "source": [
    "rf_table = pd.DataFrame(data)\n",
    "rf_table.index = ['50', '100', '200', '300']\n",
    "rf_table"
   ]
  },
  {
   "cell_type": "markdown",
   "metadata": {},
   "source": [
    "## 2. Balanced Random Forest Classifier with k-fold cross validation"
   ]
  },
  {
   "cell_type": "markdown",
   "metadata": {},
   "source": [
    "- Will downsample majority class (unstable transcripts)\n",
    "- For each tree in RF, down-sample the majority class to the same size as the minority class\n",
    "- Given enough trees, all training data are used, so no loss of information\n",
    "- Computationally efficient, since each tree only sees a small sample\n"
   ]
  },
  {
   "cell_type": "code",
   "execution_count": 378,
   "metadata": {},
   "outputs": [],
   "source": [
    "brf = BalancedRandomForestClassifier(n_estimators=100, random_state=42, max_depth=2) #1,3\n",
    "k_fold = KFold(n_splits=10, random_state=42, shuffle=True)\n",
    "sk_fold = StratifiedKFold(n_splits=10, random_state=42, shuffle=True) #stratified better for unbalanced datasets"
   ]
  },
  {
   "cell_type": "code",
   "execution_count": 381,
   "metadata": {},
   "outputs": [],
   "source": [
    "brf_scores = cross_val_score(brf, x1, y1, cv=sk_fold, n_jobs=2, pre_dispatch=4)"
   ]
  },
  {
   "cell_type": "code",
   "execution_count": 382,
   "metadata": {},
   "outputs": [
    {
     "name": "stdout",
     "output_type": "stream",
     "text": [
      "Accuracy: 67.57%\n"
     ]
    }
   ],
   "source": [
    "print(\"Accuracy: %.2f%%\" % (brf_scores.mean()*100.0))"
   ]
  },
  {
   "cell_type": "markdown",
   "metadata": {},
   "source": [
    "### Obtain confusion matrix for predicted values"
   ]
  },
  {
   "cell_type": "code",
   "execution_count": 379,
   "metadata": {},
   "outputs": [],
   "source": [
    "brf_pred = cross_val_predict(brf, x1, y1, cv=sk_fold, n_jobs=3, pre_dispatch=6)\n",
    "labels = np.unique(y1)\n",
    "conf_mat = confusion_matrix(y1, brf_pred, labels=labels)"
   ]
  },
  {
   "cell_type": "code",
   "execution_count": 380,
   "metadata": {},
   "outputs": [
    {
     "data": {
      "text/html": [
       "<div>\n",
       "<style scoped>\n",
       "    .dataframe tbody tr th:only-of-type {\n",
       "        vertical-align: middle;\n",
       "    }\n",
       "\n",
       "    .dataframe tbody tr th {\n",
       "        vertical-align: top;\n",
       "    }\n",
       "\n",
       "    .dataframe thead th {\n",
       "        text-align: right;\n",
       "    }\n",
       "</style>\n",
       "<table border=\"1\" class=\"dataframe\">\n",
       "  <thead>\n",
       "    <tr style=\"text-align: right;\">\n",
       "      <th></th>\n",
       "      <th>NO</th>\n",
       "      <th>YES</th>\n",
       "    </tr>\n",
       "  </thead>\n",
       "  <tbody>\n",
       "    <tr>\n",
       "      <td>NO</td>\n",
       "      <td>54309</td>\n",
       "      <td>26235</td>\n",
       "    </tr>\n",
       "    <tr>\n",
       "      <td>YES</td>\n",
       "      <td>345</td>\n",
       "      <td>1074</td>\n",
       "    </tr>\n",
       "  </tbody>\n",
       "</table>\n",
       "</div>"
      ],
      "text/plain": [
       "        NO    YES\n",
       "NO   54309  26235\n",
       "YES    345   1074"
      ]
     },
     "execution_count": 380,
     "metadata": {},
     "output_type": "execute_result"
    }
   ],
   "source": [
    "pd.DataFrame(conf_mat, index=labels, columns=labels)"
   ]
  },
  {
   "cell_type": "markdown",
   "metadata": {},
   "source": [
    "#### Vary Max_Depth"
   ]
  },
  {
   "cell_type": "code",
   "execution_count": 22,
   "metadata": {},
   "outputs": [
    {
     "data": {
      "image/png": "[encoded data removed]",
      "text/plain": [
       "<Figure size 432x288 with 1 Axes>"
      ]
     },
     "metadata": {
      "needs_background": "light"
     },
     "output_type": "display_data"
    }
   ],
   "source": [
    "precision = dict()\n",
    "recall = dict()\n",
    "k_fold = KFold(n_splits=10, random_state=42, shuffle=True)\n",
    "for i in range(2,9):\n",
    "    brf = BalancedRandomForestClassifier(n_estimators=100, random_state=42, max_depth=i)\n",
    "    brf_pred = cross_val_predict(brf, x1, y1, cv=k_fold, n_jobs=3, pre_dispatch=6)\n",
    "    y2 = np.where(y1 ==\"YES\", True, False)\n",
    "    brf_pred2 = np.where(brf_pred ==\"YES\", True, False)\n",
    "    precision[i], recall[i], _ = precision_recall_curve(y2, brf_pred2)\n",
    "    plt.plot(recall[i], precision[i], lw=2, label='depth {}'.format(i))\n",
    "\n",
    "plt.xlabel(\"recall\")\n",
    "plt.ylabel(\"precision\")\n",
    "plt.legend(loc=\"best\")\n",
    "plt.title(\"precision vs. recall curve\")\n",
    "plt.show()"
   ]
  },
  {
   "cell_type": "markdown",
   "metadata": {},
   "source": [
    "#### Vary n_trees with max_depth of 2"
   ]
  },
  {
   "cell_type": "code",
   "execution_count": 23,
   "metadata": {},
   "outputs": [
    {
     "data": {
      "image/png": "[encoded data removed]",
      "text/plain": [
       "<Figure size 432x288 with 1 Axes>"
      ]
     },
     "metadata": {
      "needs_background": "light"
     },
     "output_type": "display_data"
    }
   ],
   "source": [
    "precision = dict()\n",
    "recall = dict()\n",
    "trees = [50,100,200,300]\n",
    "for i in trees:\n",
    "    brf = BalancedRandomForestClassifier(n_estimators=i, random_state=42, max_depth=2)\n",
    "    brf_pred = cross_val_predict(brf, x1, y1, cv=k_fold, n_jobs=3, pre_dispatch=6)\n",
    "    y2 = np.where(y1 ==\"YES\", True, False)\n",
    "    brf_pred2 = np.where(brf_pred ==\"YES\", True, False)\n",
    "    precision[i], recall[i], _ = precision_recall_curve(y2, brf_pred2)\n",
    "    plt.plot(recall[i], precision[i], lw=2, label='n_trees {}'.format(i))\n",
    "\n",
    "plt.xlabel(\"recall\")\n",
    "plt.ylabel(\"precision\")\n",
    "plt.legend(loc=\"best\")\n",
    "plt.title(\"precision vs. recall curve\")\n",
    "plt.show()"
   ]
  },
  {
   "cell_type": "markdown",
   "metadata": {},
   "source": [
    "#### Table of performance (Precision, Recall, F-score) with varying N-trees (k-fold CV)"
   ]
  },
  {
   "cell_type": "code",
   "execution_count": 28,
   "metadata": {},
   "outputs": [],
   "source": [
    "precision = []\n",
    "recall = []\n",
    "f1 = []\n",
    "\n",
    "trees = [50,100,200,300,400,500]\n",
    "for i in trees:\n",
    "    brf = BalancedRandomForestClassifier(n_estimators=i, random_state=42)\n",
    "    brf_pred = cross_val_predict(brf, x1, y1, cv=k_fold, n_jobs=3, pre_dispatch=6)\n",
    "    f1_s = f1_score(y1, brf_pred, pos_label=\"YES\")\n",
    "    recall_s = recall_score(y1, brf_pred, pos_label=\"YES\")\n",
    "    precision_s = precision_score(y1, brf_pred, pos_label=\"YES\")\n",
    "    f1.append(f1_s)\n",
    "    recall.append(recall_s)\n",
    "    precision.append(precision_s)"
   ]
  },
  {
   "cell_type": "code",
   "execution_count": 29,
   "metadata": {},
   "outputs": [],
   "source": [
    "data = {'Precision':precision, 'Recall':recall, \"F1\":f1}"
   ]
  },
  {
   "cell_type": "code",
   "execution_count": 30,
   "metadata": {},
   "outputs": [
    {
     "data": {
      "text/html": [
       "<div>\n",
       "<style scoped>\n",
       "    .dataframe tbody tr th:only-of-type {\n",
       "        vertical-align: middle;\n",
       "    }\n",
       "\n",
       "    .dataframe tbody tr th {\n",
       "        vertical-align: top;\n",
       "    }\n",
       "\n",
       "    .dataframe thead th {\n",
       "        text-align: right;\n",
       "    }\n",
       "</style>\n",
       "<table border=\"1\" class=\"dataframe\">\n",
       "  <thead>\n",
       "    <tr style=\"text-align: right;\">\n",
       "      <th></th>\n",
       "      <th>Precision</th>\n",
       "      <th>Recall</th>\n",
       "      <th>F1</th>\n",
       "    </tr>\n",
       "  </thead>\n",
       "  <tbody>\n",
       "    <tr>\n",
       "      <td>50</td>\n",
       "      <td>0.037552</td>\n",
       "      <td>0.690627</td>\n",
       "      <td>0.071231</td>\n",
       "    </tr>\n",
       "    <tr>\n",
       "      <td>100</td>\n",
       "      <td>0.036913</td>\n",
       "      <td>0.689922</td>\n",
       "      <td>0.070076</td>\n",
       "    </tr>\n",
       "    <tr>\n",
       "      <td>200</td>\n",
       "      <td>0.036924</td>\n",
       "      <td>0.692741</td>\n",
       "      <td>0.070112</td>\n",
       "    </tr>\n",
       "    <tr>\n",
       "      <td>300</td>\n",
       "      <td>0.037175</td>\n",
       "      <td>0.697674</td>\n",
       "      <td>0.070588</td>\n",
       "    </tr>\n",
       "    <tr>\n",
       "      <td>400</td>\n",
       "      <td>0.037112</td>\n",
       "      <td>0.697674</td>\n",
       "      <td>0.070475</td>\n",
       "    </tr>\n",
       "    <tr>\n",
       "      <td>500</td>\n",
       "      <td>0.036982</td>\n",
       "      <td>0.696970</td>\n",
       "      <td>0.070236</td>\n",
       "    </tr>\n",
       "  </tbody>\n",
       "</table>\n",
       "</div>"
      ],
      "text/plain": [
       "     Precision    Recall        F1\n",
       "50    0.037552  0.690627  0.071231\n",
       "100   0.036913  0.689922  0.070076\n",
       "200   0.036924  0.692741  0.070112\n",
       "300   0.037175  0.697674  0.070588\n",
       "400   0.037112  0.697674  0.070475\n",
       "500   0.036982  0.696970  0.070236"
      ]
     },
     "execution_count": 30,
     "metadata": {},
     "output_type": "execute_result"
    }
   ],
   "source": [
    "brf_table = pd.DataFrame(data)\n",
    "brf_table.index = ['50', '100', '200', '300', '400','500']\n",
    "brf_table"
   ]
  },
  {
   "cell_type": "markdown",
   "metadata": {},
   "source": [
    "#### Table of performance (Precision, Recall, F-score) with varying N-trees (stratified k-fold CV)"
   ]
  },
  {
   "cell_type": "code",
   "execution_count": 390,
   "metadata": {},
   "outputs": [],
   "source": [
    "precision = []\n",
    "recall = []\n",
    "f1 = []\n",
    "\n",
    "trees = [50,100,200,300, 400, 500, 1000]\n",
    "for i in trees:\n",
    "    brf = BalancedRandomForestClassifier(n_estimators=i, random_state=42, max_depth=2)\n",
    "    brf_pred = cross_val_predict(brf, x1, y1, cv=sk_fold, n_jobs=3, pre_dispatch=6)\n",
    "    f1_s = f1_score(y1, brf_pred, pos_label=\"YES\")\n",
    "    recall_s = recall_score(y1, brf_pred, pos_label=\"YES\")\n",
    "    precision_s = precision_score(y1, brf_pred, pos_label=\"YES\")\n",
    "    f1.append(f1_s)\n",
    "    recall.append(recall_s)\n",
    "    precision.append(precision_s)"
   ]
  },
  {
   "cell_type": "code",
   "execution_count": 391,
   "metadata": {},
   "outputs": [],
   "source": [
    "data = {'Precision':precision, 'Recall':recall, \"F1\":f1}"
   ]
  },
  {
   "cell_type": "code",
   "execution_count": 392,
   "metadata": {},
   "outputs": [
    {
     "data": {
      "text/html": [
       "<div>\n",
       "<style scoped>\n",
       "    .dataframe tbody tr th:only-of-type {\n",
       "        vertical-align: middle;\n",
       "    }\n",
       "\n",
       "    .dataframe tbody tr th {\n",
       "        vertical-align: top;\n",
       "    }\n",
       "\n",
       "    .dataframe thead th {\n",
       "        text-align: right;\n",
       "    }\n",
       "</style>\n",
       "<table border=\"1\" class=\"dataframe\">\n",
       "  <thead>\n",
       "    <tr style=\"text-align: right;\">\n",
       "      <th></th>\n",
       "      <th>Precision</th>\n",
       "      <th>Recall</th>\n",
       "      <th>F1</th>\n",
       "    </tr>\n",
       "  </thead>\n",
       "  <tbody>\n",
       "    <tr>\n",
       "      <td>50</td>\n",
       "      <td>0.039267</td>\n",
       "      <td>0.754052</td>\n",
       "      <td>0.074648</td>\n",
       "    </tr>\n",
       "    <tr>\n",
       "      <td>100</td>\n",
       "      <td>0.039328</td>\n",
       "      <td>0.756871</td>\n",
       "      <td>0.074770</td>\n",
       "    </tr>\n",
       "    <tr>\n",
       "      <td>200</td>\n",
       "      <td>0.039166</td>\n",
       "      <td>0.756166</td>\n",
       "      <td>0.074475</td>\n",
       "    </tr>\n",
       "    <tr>\n",
       "      <td>300</td>\n",
       "      <td>0.039259</td>\n",
       "      <td>0.759690</td>\n",
       "      <td>0.074659</td>\n",
       "    </tr>\n",
       "    <tr>\n",
       "      <td>400</td>\n",
       "      <td>0.039236</td>\n",
       "      <td>0.760395</td>\n",
       "      <td>0.074622</td>\n",
       "    </tr>\n",
       "    <tr>\n",
       "      <td>500</td>\n",
       "      <td>0.039269</td>\n",
       "      <td>0.760395</td>\n",
       "      <td>0.074682</td>\n",
       "    </tr>\n",
       "    <tr>\n",
       "      <td>1000</td>\n",
       "      <td>0.039257</td>\n",
       "      <td>0.759690</td>\n",
       "      <td>0.074656</td>\n",
       "    </tr>\n",
       "  </tbody>\n",
       "</table>\n",
       "</div>"
      ],
      "text/plain": [
       "      Precision    Recall        F1\n",
       "50     0.039267  0.754052  0.074648\n",
       "100    0.039328  0.756871  0.074770\n",
       "200    0.039166  0.756166  0.074475\n",
       "300    0.039259  0.759690  0.074659\n",
       "400    0.039236  0.760395  0.074622\n",
       "500    0.039269  0.760395  0.074682\n",
       "1000   0.039257  0.759690  0.074656"
      ]
     },
     "execution_count": 392,
     "metadata": {},
     "output_type": "execute_result"
    }
   ],
   "source": [
    "brf_table = pd.DataFrame(data)\n",
    "brf_table.index = ['50', '100', '200', '300','400', '500', '1000']\n",
    "brf_table"
   ]
  },
  {
   "cell_type": "code",
   "execution_count": 386,
   "metadata": {},
   "outputs": [
    {
     "name": "stdout",
     "output_type": "stream",
     "text": [
      "TN:  54221\n",
      "FN:  346\n",
      "TP:  1073\n",
      "FP:  26323\n"
     ]
    }
   ],
   "source": [
    "tn, fp, fn, tp = confusion_matrix(y1, brf_pred).ravel()\n",
    "print(f'TN: ',tn)\n",
    "print(f'FN: ',fn)\n",
    "print(f'TP: ',tp)\n",
    "print(f'FP: ',fp)"
   ]
  },
  {
   "cell_type": "markdown",
   "metadata": {},
   "source": [
    "## 2. Weighted Random Forest Classifier with k-fold cross validation"
   ]
  },
  {
   "cell_type": "markdown",
   "metadata": {},
   "source": [
    "- Place a heavier penalty on misclassifying the minority class (stable transcripts), using class_weight\n",
    "- Ex: {\"NO\":1, \"YES\":50} = every sample from class \"YES\" would count as 50 samples from class \"NO\", therefore giving more \"importance\" to your elements from class \"YES\" (as you have less of those samples surely)"
   ]
  },
  {
   "cell_type": "markdown",
   "metadata": {},
   "source": [
    "### Calculate class weights"
   ]
  },
  {
   "cell_type": "code",
   "execution_count": 222,
   "metadata": {},
   "outputs": [
    {
     "name": "stderr",
     "output_type": "stream",
     "text": [
      "/Users/anthmam/.pyenv/versions/anaconda3-2019.10/lib/python3.7/site-packages/sklearn/utils/validation.py:71: FutureWarning: Pass classes=[1, 2], y=[1. 1. 1. ... 2. 2. 2.] as keyword args. From version 0.25 passing these as positional arguments will result in an error\n",
      "  FutureWarning)\n"
     ]
    }
   ],
   "source": [
    "c1 = np.ones(1419)\n",
    "c2 = np.ones(80544) + 1\n",
    "c3 = np.concatenate([c1, c2])\n",
    "\n",
    "classes=[1,2]\n",
    "cw = compute_class_weight('balanced', classes, c3)"
   ]
  },
  {
   "cell_type": "code",
   "execution_count": 234,
   "metadata": {},
   "outputs": [
    {
     "data": {
      "text/plain": [
       "81963"
      ]
     },
     "execution_count": 234,
     "metadata": {},
     "output_type": "execute_result"
    }
   ],
   "source": [
    "len(c3)"
   ]
  },
  {
   "cell_type": "code",
   "execution_count": 225,
   "metadata": {},
   "outputs": [
    {
     "data": {
      "text/plain": [
       "array([13.6874643 ,  0.24114163])"
      ]
     },
     "execution_count": 225,
     "metadata": {},
     "output_type": "execute_result"
    }
   ],
   "source": [
    "cw/2.11"
   ]
  },
  {
   "cell_type": "code",
   "execution_count": 306,
   "metadata": {},
   "outputs": [],
   "source": [
    "wrf = RandomForestClassifier(n_estimators=100, random_state=42, class_weight={\"NO\":1, \"YES\":100})\n",
    "wrf_pred = cross_val_predict(wrf, x1, y1, cv=sk_fold, n_jobs=3, pre_dispatch=6)"
   ]
  },
  {
   "cell_type": "markdown",
   "metadata": {},
   "source": [
    "### Obtain confusion matrix for predicted values"
   ]
  },
  {
   "cell_type": "code",
   "execution_count": 307,
   "metadata": {},
   "outputs": [],
   "source": [
    "accuracy = accuracy_score(y1, wrf_pred)\n",
    "labels = np.unique(y1)\n",
    "conf_wrf = confusion_matrix(y1, wrf_pred, labels=labels) #extract confusion matrix"
   ]
  },
  {
   "cell_type": "code",
   "execution_count": 308,
   "metadata": {},
   "outputs": [
    {
     "name": "stdout",
     "output_type": "stream",
     "text": [
      "95.9457316106048\n"
     ]
    }
   ],
   "source": [
    "print(accuracy * 100)"
   ]
  },
  {
   "cell_type": "code",
   "execution_count": 309,
   "metadata": {},
   "outputs": [
    {
     "data": {
      "text/html": [
       "<div>\n",
       "<style scoped>\n",
       "    .dataframe tbody tr th:only-of-type {\n",
       "        vertical-align: middle;\n",
       "    }\n",
       "\n",
       "    .dataframe tbody tr th {\n",
       "        vertical-align: top;\n",
       "    }\n",
       "\n",
       "    .dataframe thead th {\n",
       "        text-align: right;\n",
       "    }\n",
       "</style>\n",
       "<table border=\"1\" class=\"dataframe\">\n",
       "  <thead>\n",
       "    <tr style=\"text-align: right;\">\n",
       "      <th></th>\n",
       "      <th>NO</th>\n",
       "      <th>YES</th>\n",
       "    </tr>\n",
       "  </thead>\n",
       "  <tbody>\n",
       "    <tr>\n",
       "      <td>NO</td>\n",
       "      <td>78544</td>\n",
       "      <td>2000</td>\n",
       "    </tr>\n",
       "    <tr>\n",
       "      <td>YES</td>\n",
       "      <td>1323</td>\n",
       "      <td>96</td>\n",
       "    </tr>\n",
       "  </tbody>\n",
       "</table>\n",
       "</div>"
      ],
      "text/plain": [
       "        NO   YES\n",
       "NO   78544  2000\n",
       "YES   1323    96"
      ]
     },
     "execution_count": 309,
     "metadata": {},
     "output_type": "execute_result"
    }
   ],
   "source": [
    "pd.DataFrame(conf_wrf, index=labels, columns=labels)"
   ]
  },
  {
   "cell_type": "markdown",
   "metadata": {},
   "source": [
    "#### Vary Class_Weight"
   ]
  },
  {
   "cell_type": "code",
   "execution_count": null,
   "metadata": {},
   "outputs": [],
   "source": [
    "precision = []\n",
    "recall = []\n",
    "f1 = []\n",
    "\n",
    "weight = []\n",
    "\n",
    "for i in weight:\n",
    "    wrf = RandomForestClassifier(n_estimators=100, random_state=42, class_weight={\"NO\": 1, \"YES\": i})\n",
    "    wrf_pred = cross_val_predict(wrf, x1, y1, cv=sk_fold, n_jobs=3, pre_dispatch=6)\n",
    "    f1_s = f1_score(y1, wrf_pred, pos_label=\"YES\")\n",
    "    recall_s = recall_score(y1, wrf_pred, pos_label=\"YES\")\n",
    "    precision_s = precision_score(y1, wrf_pred, pos_label=\"YES\")\n",
    "    f1.append(f1_s)\n",
    "    recall.append(recall_s)\n",
    "    precision.append(precision_s)"
   ]
  },
  {
   "cell_type": "markdown",
   "metadata": {},
   "source": [
    "## 3. SMOTE with k-fold cross validation"
   ]
  },
  {
   "cell_type": "markdown",
   "metadata": {},
   "source": [
    "- Specialized over-sampling of minority class (\"YES\")"
   ]
  },
  {
   "cell_type": "code",
   "execution_count": 255,
   "metadata": {},
   "outputs": [
    {
     "name": "stdout",
     "output_type": "stream",
     "text": [
      "For fold 1:\n",
      "Accuracy: 0.7207514944491887\n",
      "f-score: 0.06380368098159508\n",
      "recall-score: 0.624\n",
      "For fold 2:\n",
      "Accuracy: 0.7339270464804196\n",
      "f-score: 0.060318828091339934\n",
      "recall-score: 0.4666666666666667\n",
      "For fold 3:\n",
      "Accuracy: 0.7675979016713431\n",
      "f-score: 0.061113849186791525\n",
      "recall-score: 0.4397163120567376\n",
      "For fold 4:\n",
      "Accuracy: 0.7907515861395803\n",
      "f-score: 0.08825093035619351\n",
      "recall-score: 0.5220125786163522\n",
      "For fold 5:\n",
      "Accuracy: 0.740971205466081\n",
      "f-score: 0.04326273095989184\n",
      "recall-score: 0.5274725274725275\n",
      "For fold 6:\n",
      "Accuracy: 0.7941678867740362\n",
      "f-score: 0.052779337450870295\n",
      "recall-score: 0.373015873015873\n",
      "For fold 7:\n",
      "Accuracy: 0.7875793069790141\n",
      "f-score: 0.07442849548112705\n",
      "recall-score: 0.4430379746835443\n",
      "For fold 8:\n",
      "Accuracy: 0.7961200585651538\n",
      "f-score: 0.06386554621848739\n",
      "recall-score: 0.38\n",
      "For fold 9:\n",
      "Accuracy: 0.7508540751586139\n",
      "f-score: 0.06587374199451053\n",
      "recall-score: 0.4864864864864865\n",
      "For fold 10:\n",
      "Accuracy: 0.7817227916056613\n",
      "f-score: 0.07353702744691869\n",
      "recall-score: 0.4152046783625731\n"
     ]
    }
   ],
   "source": [
    "kf = KFold(n_splits=10)\n",
    "\n",
    "for fold, (train_index, test_index) in enumerate(kf.split(x1), 1):\n",
    "    X_train = x1[train_index]\n",
    "    y_train = y1[train_index]  # Based on your code, you might need a ravel call here, but I would look into how you're generating your y\n",
    "    X_test = x1[test_index]\n",
    "    y_test = y1[test_index]  # See comment on ravel and  y_train\n",
    "    sm = SMOTE()\n",
    "    X_train_oversampled, y_train_oversampled = sm.fit_sample(X_train, y_train)\n",
    "    model = RandomForestClassifier(n_estimators=100)  # Choose a model here\n",
    "    model.fit(X_train_oversampled, y_train_oversampled )  \n",
    "    y_pred = model.predict(X_test)\n",
    "    print(f'For fold {fold}:')\n",
    "    print(f'Accuracy: {model.score(X_test, y_test)}')\n",
    "    print(f'f-score: {f1_score(y_test, y_pred, pos_label=\"YES\")}')\n",
    "    print(f'recall-score: {recall_score(y_test, model.predict(X_test), pos_label=\"YES\")}')"
   ]
  },
  {
   "cell_type": "code",
   "execution_count": 401,
   "metadata": {},
   "outputs": [],
   "source": [
    "kf_2 = KFold(n_splits=10, shuffle=True)\n",
    "imba_pipeline = make_pipeline(SMOTE(random_state=42), \n",
    "                              RandomForestClassifier(n_estimators=200, random_state=13, max_depth=2))"
   ]
  },
  {
   "cell_type": "code",
   "execution_count": 394,
   "metadata": {},
   "outputs": [],
   "source": [
    "smote_score = cross_val_score(imba_pipeline, x1, y1, cv=kf_2)"
   ]
  },
  {
   "cell_type": "code",
   "execution_count": 396,
   "metadata": {},
   "outputs": [
    {
     "name": "stdout",
     "output_type": "stream",
     "text": [
      "Accuracy: 67.91%\n"
     ]
    }
   ],
   "source": [
    "print(\"Accuracy: %.2f%%\" % (smote_score.mean()*100.0))"
   ]
  },
  {
   "cell_type": "code",
   "execution_count": 402,
   "metadata": {},
   "outputs": [],
   "source": [
    "smote_score_pred = cross_val_predict(imba_pipeline, x1, y1, cv=kf_2, n_jobs=3, pre_dispatch=6)"
   ]
  },
  {
   "cell_type": "code",
   "execution_count": 403,
   "metadata": {},
   "outputs": [
    {
     "data": {
      "text/html": [
       "<div>\n",
       "<style scoped>\n",
       "    .dataframe tbody tr th:only-of-type {\n",
       "        vertical-align: middle;\n",
       "    }\n",
       "\n",
       "    .dataframe tbody tr th {\n",
       "        vertical-align: top;\n",
       "    }\n",
       "\n",
       "    .dataframe thead th {\n",
       "        text-align: right;\n",
       "    }\n",
       "</style>\n",
       "<table border=\"1\" class=\"dataframe\">\n",
       "  <thead>\n",
       "    <tr style=\"text-align: right;\">\n",
       "      <th></th>\n",
       "      <th>NO</th>\n",
       "      <th>YES</th>\n",
       "    </tr>\n",
       "  </thead>\n",
       "  <tbody>\n",
       "    <tr>\n",
       "      <td>NO</td>\n",
       "      <td>54379</td>\n",
       "      <td>26165</td>\n",
       "    </tr>\n",
       "    <tr>\n",
       "      <td>YES</td>\n",
       "      <td>350</td>\n",
       "      <td>1069</td>\n",
       "    </tr>\n",
       "  </tbody>\n",
       "</table>\n",
       "</div>"
      ],
      "text/plain": [
       "        NO    YES\n",
       "NO   54379  26165\n",
       "YES    350   1069"
      ]
     },
     "execution_count": 403,
     "metadata": {},
     "output_type": "execute_result"
    }
   ],
   "source": [
    "accuracy = accuracy_score(y1, smote_score_pred)\n",
    "labels = np.unique(y1)\n",
    "smote_mat = confusion_matrix(y1, smote_score_pred, labels=labels)\n",
    "pd.DataFrame(smote_mat, index=labels, columns=labels)"
   ]
  },
  {
   "cell_type": "markdown",
   "metadata": {},
   "source": [
    "#### Vary Max_Depth"
   ]
  },
  {
   "cell_type": "code",
   "execution_count": 270,
   "metadata": {},
   "outputs": [
    {
     "data": {
      "image/png": "[encoded data removed]",
      "text/plain": [
       "<Figure size 432x288 with 1 Axes>"
      ]
     },
     "metadata": {
      "needs_background": "light"
     },
     "output_type": "display_data"
    }
   ],
   "source": [
    "precision = dict()\n",
    "recall = dict()\n",
    "\n",
    "p = []\n",
    "r = []\n",
    "f = []\n",
    "kf_2 = KFold(n_splits=5, shuffle=False)\n",
    "\n",
    "for i in range(2,9):\n",
    "    imba_pipeline = make_pipeline(SMOTE(random_state=42), \n",
    "                              RandomForestClassifier(n_estimators=100, random_state=13, max_depth=i))\n",
    "    smote_score_pred = cross_val_predict(imba_pipeline, x1, y1, cv=kf_2, n_jobs=3, pre_dispatch=6)\n",
    "    y2 = np.where(y1 ==\"YES\", True, False)\n",
    "    smote_score_pred2 = np.where(smote_score_pred ==\"YES\", True, False)\n",
    "    \n",
    "    f1_s = f1_score(y1, smote_score_pred, pos_label=\"YES\")\n",
    "    recall_s = recall_score(y1, smote_score_pred, pos_label=\"YES\")\n",
    "    precision_s = precision_score(y1, smote_score_pred, pos_label=\"YES\")\n",
    "    f.append(f1_s)\n",
    "    r.append(recall_s)\n",
    "    p.append(precision_s)\n",
    "    \n",
    "    precision[i], recall[i], _ = precision_recall_curve(y2, smote_score_pred2)\n",
    "    plt.plot(recall[i], precision[i], lw=2, label='depth {}'.format(i))\n",
    "\n",
    "plt.xlabel(\"recall\")\n",
    "plt.ylabel(\"precision\")\n",
    "plt.legend(loc=\"best\")\n",
    "plt.title(\"precision vs. recall curve\")\n",
    "plt.show()"
   ]
  },
  {
   "cell_type": "code",
   "execution_count": 271,
   "metadata": {},
   "outputs": [],
   "source": [
    "data = {'Precision':p, 'Recall':r, \"F1\":f}"
   ]
  },
  {
   "cell_type": "code",
   "execution_count": 272,
   "metadata": {},
   "outputs": [
    {
     "data": {
      "text/html": [
       "<div>\n",
       "<style scoped>\n",
       "    .dataframe tbody tr th:only-of-type {\n",
       "        vertical-align: middle;\n",
       "    }\n",
       "\n",
       "    .dataframe tbody tr th {\n",
       "        vertical-align: top;\n",
       "    }\n",
       "\n",
       "    .dataframe thead th {\n",
       "        text-align: right;\n",
       "    }\n",
       "</style>\n",
       "<table border=\"1\" class=\"dataframe\">\n",
       "  <thead>\n",
       "    <tr style=\"text-align: right;\">\n",
       "      <th></th>\n",
       "      <th>Precision</th>\n",
       "      <th>Recall</th>\n",
       "      <th>F1</th>\n",
       "    </tr>\n",
       "  </thead>\n",
       "  <tbody>\n",
       "    <tr>\n",
       "      <td>2</td>\n",
       "      <td>0.039202</td>\n",
       "      <td>0.766737</td>\n",
       "      <td>0.074590</td>\n",
       "    </tr>\n",
       "    <tr>\n",
       "      <td>3</td>\n",
       "      <td>0.039149</td>\n",
       "      <td>0.762509</td>\n",
       "      <td>0.074474</td>\n",
       "    </tr>\n",
       "    <tr>\n",
       "      <td>4</td>\n",
       "      <td>0.041097</td>\n",
       "      <td>0.741367</td>\n",
       "      <td>0.077877</td>\n",
       "    </tr>\n",
       "    <tr>\n",
       "      <td>5</td>\n",
       "      <td>0.041353</td>\n",
       "      <td>0.723749</td>\n",
       "      <td>0.078236</td>\n",
       "    </tr>\n",
       "    <tr>\n",
       "      <td>6</td>\n",
       "      <td>0.041356</td>\n",
       "      <td>0.718111</td>\n",
       "      <td>0.078207</td>\n",
       "    </tr>\n",
       "    <tr>\n",
       "      <td>7</td>\n",
       "      <td>0.041352</td>\n",
       "      <td>0.701198</td>\n",
       "      <td>0.078097</td>\n",
       "    </tr>\n",
       "    <tr>\n",
       "      <td>8</td>\n",
       "      <td>0.040666</td>\n",
       "      <td>0.695560</td>\n",
       "      <td>0.076839</td>\n",
       "    </tr>\n",
       "  </tbody>\n",
       "</table>\n",
       "</div>"
      ],
      "text/plain": [
       "   Precision    Recall        F1\n",
       "2   0.039202  0.766737  0.074590\n",
       "3   0.039149  0.762509  0.074474\n",
       "4   0.041097  0.741367  0.077877\n",
       "5   0.041353  0.723749  0.078236\n",
       "6   0.041356  0.718111  0.078207\n",
       "7   0.041352  0.701198  0.078097\n",
       "8   0.040666  0.695560  0.076839"
      ]
     },
     "execution_count": 272,
     "metadata": {},
     "output_type": "execute_result"
    }
   ],
   "source": [
    "smote_table = pd.DataFrame(data)\n",
    "smote_table.index = ['2', '3', '4', '5', '6','7','8']\n",
    "smote_table"
   ]
  },
  {
   "cell_type": "markdown",
   "metadata": {},
   "source": [
    "## 4. Gradient Boosting with k-fold cross validation"
   ]
  },
  {
   "cell_type": "code",
   "execution_count": 296,
   "metadata": {},
   "outputs": [],
   "source": [
    "grf = GradientBoostingClassifier(random_state=42)\n",
    "sk_fold = StratifiedKFold(n_splits=5, random_state=42, shuffle=True) #stratified better for unbalanced datasets"
   ]
  },
  {
   "cell_type": "code",
   "execution_count": 297,
   "metadata": {},
   "outputs": [],
   "source": [
    "grf_pred = cross_val_predict(grf, x1, y1, cv=sk_fold, n_jobs=3, pre_dispatch=6)"
   ]
  },
  {
   "cell_type": "code",
   "execution_count": 298,
   "metadata": {},
   "outputs": [
    {
     "data": {
      "text/html": [
       "<div>\n",
       "<style scoped>\n",
       "    .dataframe tbody tr th:only-of-type {\n",
       "        vertical-align: middle;\n",
       "    }\n",
       "\n",
       "    .dataframe tbody tr th {\n",
       "        vertical-align: top;\n",
       "    }\n",
       "\n",
       "    .dataframe thead th {\n",
       "        text-align: right;\n",
       "    }\n",
       "</style>\n",
       "<table border=\"1\" class=\"dataframe\">\n",
       "  <thead>\n",
       "    <tr style=\"text-align: right;\">\n",
       "      <th></th>\n",
       "      <th>NO</th>\n",
       "      <th>YES</th>\n",
       "    </tr>\n",
       "  </thead>\n",
       "  <tbody>\n",
       "    <tr>\n",
       "      <td>NO</td>\n",
       "      <td>80469</td>\n",
       "      <td>75</td>\n",
       "    </tr>\n",
       "    <tr>\n",
       "      <td>YES</td>\n",
       "      <td>1418</td>\n",
       "      <td>1</td>\n",
       "    </tr>\n",
       "  </tbody>\n",
       "</table>\n",
       "</div>"
      ],
      "text/plain": [
       "        NO  YES\n",
       "NO   80469   75\n",
       "YES   1418    1"
      ]
     },
     "execution_count": 298,
     "metadata": {},
     "output_type": "execute_result"
    }
   ],
   "source": [
    "labels = np.unique(y1)\n",
    "grf_mat = confusion_matrix(y1, grf_pred, labels=labels)\n",
    "pd.DataFrame(grf_mat, index=labels, columns=labels)"
   ]
  },
  {
   "cell_type": "markdown",
   "metadata": {},
   "source": [
    "## 5. Logistic Regression with k-fold cross validation"
   ]
  },
  {
   "cell_type": "code",
   "execution_count": null,
   "metadata": {},
   "outputs": [],
   "source": []
  }
 ],
 "metadata": {
  "kernelspec": {
   "display_name": "Python 3",
   "language": "python",
   "name": "python3"
  },
  "language_info": {
   "codemirror_mode": {
    "name": "ipython",
    "version": 3
   },
   "file_extension": ".py",
   "mimetype": "text/x-python",
   "name": "python",
   "nbconvert_exporter": "python",
   "pygments_lexer": "ipython3",
   "version": "3.7.4"
  }
 },
 "nbformat": 4,
 "nbformat_minor": 4
}
